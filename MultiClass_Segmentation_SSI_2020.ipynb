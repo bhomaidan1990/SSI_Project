{
  "nbformat": 4,
  "nbformat_minor": 0,
  "metadata": {
    "colab": {
      "name": "MultiClass_Segmentation_SSI_2020.ipynb",
      "provenance": [],
      "collapsed_sections": [],
      "authorship_tag": "ABX9TyNeCrM/VHzGL/AiK/+TSzx2",
      "include_colab_link": true
    },
    "kernelspec": {
      "name": "python3",
      "display_name": "Python 3"
    },
    "accelerator": "GPU"
  },
  "cells": [
    {
      "cell_type": "markdown",
      "metadata": {
        "id": "view-in-github",
        "colab_type": "text"
      },
      "source": [
        "<a href=\"https://colab.research.google.com/github/bhomaidan1990/SSI_Project/blob/master/MultiClass_Segmentation_SSI_2020.ipynb\" target=\"_parent\"><img src=\"https://colab.research.google.com/assets/colab-badge.svg\" alt=\"Open In Colab\"/></a>"
      ]
    },
    {
      "cell_type": "markdown",
      "metadata": {
        "id": "giPeUDLG0yV2",
        "colab_type": "text"
      },
      "source": [
        "# MultiClass Segmentation using pretrained model"
      ]
    },
    {
      "cell_type": "markdown",
      "metadata": {
        "id": "Jimcroi71Dqp",
        "colab_type": "text"
      },
      "source": [
        "### Import necssary libraries"
      ]
    },
    {
      "cell_type": "code",
      "metadata": {
        "id": "pLtDMAl1mO0h",
        "colab_type": "code",
        "outputId": "9c74dbbf-25b7-45b4-85a4-0c8ac39734ce",
        "colab": {
          "base_uri": "https://localhost:8080/",
          "height": 523
        }
      },
      "source": [
        "!pip install segmentation_models\n",
        "#----------------------------------\n",
        "import random\n",
        "import os\n",
        "import numpy as np\n",
        "from tqdm import tqdm\n",
        "import tensorflow as tf\n",
        "from skimage.io import imread, imshow\n",
        "from sklearn.model_selection import train_test_split\n",
        "import matplotlib.pyplot as plt\n",
        "%matplotlib inline\n",
        "import segmentation_models as sm"
      ],
      "execution_count": 1,
      "outputs": [
        {
          "output_type": "stream",
          "text": [
            "Collecting segmentation_models\n",
            "  Downloading https://files.pythonhosted.org/packages/da/b9/4a183518c21689a56b834eaaa45cad242d9ec09a4360b5b10139f23c63f4/segmentation_models-1.0.1-py3-none-any.whl\n",
            "Collecting image-classifiers==1.0.0\n",
            "  Downloading https://files.pythonhosted.org/packages/81/98/6f84720e299a4942ab80df5f76ab97b7828b24d1de5e9b2cbbe6073228b7/image_classifiers-1.0.0-py3-none-any.whl\n",
            "Collecting efficientnet==1.0.0\n",
            "  Downloading https://files.pythonhosted.org/packages/97/82/f3ae07316f0461417dc54affab6e86ab188a5a22f33176d35271628b96e0/efficientnet-1.0.0-py3-none-any.whl\n",
            "Requirement already satisfied: keras-applications<=1.0.8,>=1.0.7 in /usr/local/lib/python3.6/dist-packages (from segmentation_models) (1.0.8)\n",
            "Requirement already satisfied: scikit-image in /usr/local/lib/python3.6/dist-packages (from efficientnet==1.0.0->segmentation_models) (0.16.2)\n",
            "Requirement already satisfied: h5py in /usr/local/lib/python3.6/dist-packages (from keras-applications<=1.0.8,>=1.0.7->segmentation_models) (2.10.0)\n",
            "Requirement already satisfied: numpy>=1.9.1 in /usr/local/lib/python3.6/dist-packages (from keras-applications<=1.0.8,>=1.0.7->segmentation_models) (1.18.4)\n",
            "Requirement already satisfied: imageio>=2.3.0 in /usr/local/lib/python3.6/dist-packages (from scikit-image->efficientnet==1.0.0->segmentation_models) (2.4.1)\n",
            "Requirement already satisfied: matplotlib!=3.0.0,>=2.0.0 in /usr/local/lib/python3.6/dist-packages (from scikit-image->efficientnet==1.0.0->segmentation_models) (3.2.1)\n",
            "Requirement already satisfied: PyWavelets>=0.4.0 in /usr/local/lib/python3.6/dist-packages (from scikit-image->efficientnet==1.0.0->segmentation_models) (1.1.1)\n",
            "Requirement already satisfied: pillow>=4.3.0 in /usr/local/lib/python3.6/dist-packages (from scikit-image->efficientnet==1.0.0->segmentation_models) (7.0.0)\n",
            "Requirement already satisfied: networkx>=2.0 in /usr/local/lib/python3.6/dist-packages (from scikit-image->efficientnet==1.0.0->segmentation_models) (2.4)\n",
            "Requirement already satisfied: scipy>=0.19.0 in /usr/local/lib/python3.6/dist-packages (from scikit-image->efficientnet==1.0.0->segmentation_models) (1.4.1)\n",
            "Requirement already satisfied: six in /usr/local/lib/python3.6/dist-packages (from h5py->keras-applications<=1.0.8,>=1.0.7->segmentation_models) (1.12.0)\n",
            "Requirement already satisfied: kiwisolver>=1.0.1 in /usr/local/lib/python3.6/dist-packages (from matplotlib!=3.0.0,>=2.0.0->scikit-image->efficientnet==1.0.0->segmentation_models) (1.2.0)\n",
            "Requirement already satisfied: python-dateutil>=2.1 in /usr/local/lib/python3.6/dist-packages (from matplotlib!=3.0.0,>=2.0.0->scikit-image->efficientnet==1.0.0->segmentation_models) (2.8.1)\n",
            "Requirement already satisfied: pyparsing!=2.0.4,!=2.1.2,!=2.1.6,>=2.0.1 in /usr/local/lib/python3.6/dist-packages (from matplotlib!=3.0.0,>=2.0.0->scikit-image->efficientnet==1.0.0->segmentation_models) (2.4.7)\n",
            "Requirement already satisfied: cycler>=0.10 in /usr/local/lib/python3.6/dist-packages (from matplotlib!=3.0.0,>=2.0.0->scikit-image->efficientnet==1.0.0->segmentation_models) (0.10.0)\n",
            "Requirement already satisfied: decorator>=4.3.0 in /usr/local/lib/python3.6/dist-packages (from networkx>=2.0->scikit-image->efficientnet==1.0.0->segmentation_models) (4.4.2)\n",
            "Installing collected packages: image-classifiers, efficientnet, segmentation-models\n",
            "Successfully installed efficientnet-1.0.0 image-classifiers-1.0.0 segmentation-models-1.0.1\n"
          ],
          "name": "stdout"
        },
        {
          "output_type": "stream",
          "text": [
            "Using TensorFlow backend.\n"
          ],
          "name": "stderr"
        },
        {
          "output_type": "stream",
          "text": [
            "Segmentation Models: using `keras` framework.\n"
          ],
          "name": "stdout"
        }
      ]
    },
    {
      "cell_type": "markdown",
      "metadata": {
        "id": "_yv8LtcSqzBw",
        "colab_type": "text"
      },
      "source": [
        "## Mount Google Drive to read Dataset"
      ]
    },
    {
      "cell_type": "code",
      "metadata": {
        "id": "7Du2ER9Nq3ay",
        "colab_type": "code",
        "outputId": "9a2a14eb-23f7-4740-84ad-4464e0abb7c7",
        "colab": {
          "base_uri": "https://localhost:8080/",
          "height": 131
        }
      },
      "source": [
        "from google.colab import drive\n",
        "drive.mount('drive')"
      ],
      "execution_count": 2,
      "outputs": [
        {
          "output_type": "stream",
          "text": [
            "Go to this URL in a browser: https://accounts.google.com/o/oauth2/auth?client_id=947318989803-6bn6qk8qdgf4n4g3pfee6491hc0brc4i.apps.googleusercontent.com&redirect_uri=urn%3aietf%3awg%3aoauth%3a2.0%3aoob&response_type=code&scope=email%20https%3a%2f%2fwww.googleapis.com%2fauth%2fdocs.test%20https%3a%2f%2fwww.googleapis.com%2fauth%2fdrive%20https%3a%2f%2fwww.googleapis.com%2fauth%2fdrive.photos.readonly%20https%3a%2f%2fwww.googleapis.com%2fauth%2fpeopleapi.readonly\n",
            "\n",
            "Enter your authorization code:\n",
            "··········\n",
            "Mounted at drive\n"
          ],
          "name": "stdout"
        }
      ]
    },
    {
      "cell_type": "markdown",
      "metadata": {
        "id": "1whRSbiz4V_-",
        "colab_type": "text"
      },
      "source": [
        "### Initialization"
      ]
    },
    {
      "cell_type": "code",
      "metadata": {
        "id": "mp9jHbko4b0J",
        "colab_type": "code",
        "outputId": "1fa57312-6b10-4ca5-accd-6fa534a9060d",
        "colab": {
          "base_uri": "https://localhost:8080/",
          "height": 36
        }
      },
      "source": [
        "#--------------------------------------\n",
        "# For reproducabilty\n",
        "seed = 42\n",
        "np.random.seed = seed\n",
        "tf.random.set_seed = seed\n",
        "#--------------------------------------\n",
        "# Check if there is valid GPU to be used\n",
        "gpus = tf.config.experimental.list_physical_devices('GPU')\n",
        "if gpus:\n",
        "    print('GPU is Availabele cool...')\n",
        "    os.environ['CUDA_VISIBLE_DEVICES'] = '0'\n",
        "else:\n",
        "    print('Warning ... you are working on CPU, it will take ages!')\n",
        "#--------------------------------------\n",
        "BACKBONE = 'resnet34'\n",
        "#BACKBONE = 'efficientnetb7'\n",
        "preprocess_input = sm.get_preprocessing(BACKBONE)"
      ],
      "execution_count": 8,
      "outputs": [
        {
          "output_type": "stream",
          "text": [
            "GPU is Availabele cool...\n"
          ],
          "name": "stdout"
        }
      ]
    },
    {
      "cell_type": "markdown",
      "metadata": {
        "id": "EuGZfuxp4t3-",
        "colab_type": "text"
      },
      "source": [
        "### Loading the Data"
      ]
    },
    {
      "cell_type": "code",
      "metadata": {
        "id": "g6zOrgmD4v95",
        "colab_type": "code",
        "outputId": "c5f858c2-2984-471a-9daf-7c3497251991",
        "colab": {
          "base_uri": "https://localhost:8080/",
          "height": 111
        }
      },
      "source": [
        "# load your data\n",
        "# Path\n",
        "\n",
        "images_Path = 'drive/My Drive/Dataset/Sample_Dataset/images/'\n",
        "masks_Path = 'drive/My Drive/Dataset/Sample_Dataset/masks/'\n",
        "test_Path  = 'drive/My Drive/Dataset/Sample_Dataset/test/'\n",
        "masks_test_Path = 'drive/My Drive/Dataset/Sample_Dataset/mask_test/'\n",
        "\n",
        "# List of files\n",
        "#-------------------------------\n",
        "images = os.listdir(images_Path)\n",
        "masks = os.listdir(masks_Path)\n",
        "test = os.listdir(test_Path)\n",
        "masks_test = os.listdir(masks_test_Path)\n",
        "#----------------------\n",
        "IMG_Width  = 256\n",
        "IMG_Height = 256\n",
        "IMG_Channels = 1\n",
        "#----------------------\n",
        "def OneHotEncoding(im,n_classes):\n",
        "  one_hot = np.zeros((im.shape[0], im.shape[1], n_classes))\n",
        "  for i, unique_value in enumerate(np.unique(im)):\n",
        "    one_hot[:, :, i][im == unique_value] = 1\n",
        "  return one_hot\n",
        "#----------------------\n",
        "X = np.zeros((len(images),IMG_Height,IMG_Width,IMG_Channels),dtype=np.uint8)\n",
        "Y = np.zeros((len(masks),IMG_Height,IMG_Width,4),dtype=np.uint8)\n",
        "X_test = np.zeros((len(test),IMG_Height,IMG_Width,IMG_Channels),dtype=np.uint8)\n",
        "Y_test = np.zeros((len(masks_test),IMG_Height,IMG_Width,4),dtype=np.uint8)\n",
        "\n",
        "for n, id_ in tqdm(enumerate(images), total=len(images)):   \n",
        "    img = imread(images_Path + id_)  \n",
        "    X[n][:,:,0] = img  #Fill empty X_train with values from img\n",
        "    mask = imread(masks_Path+ id_)\n",
        "    mask = OneHotEncoding(mask,4)   \n",
        "    Y[n][:,:,:] = mask #Fill empty Y_train with values from mask\n",
        "# Y = tf.keras.utils.to_categorical(Y, num_classes=4, dtype=\"uint8\")\n",
        "\n",
        "for n, id_2 in tqdm(enumerate(test), total=len(test)):   \n",
        "    img = imread(test_Path + id_2)  \n",
        "    X_test[n][:,:,0] = img  #Fill empty X_train with values from img\n",
        "    mask2 = imread(masks_test_Path+ id_2) \n",
        "    mask2 = OneHotEncoding(mask2,4)  \n",
        "    Y_test[n][:,:,:] = mask2 #Fill empty Y_train with values from mask\n",
        "\n",
        "# Y_test = tf.keras.utils.to_categorical(Y_test, num_classes=4, dtype=\"uint8\")\n",
        "# one channel to 3 channels\n",
        "# X = np.stack([X,X,X],axis=2)  \n",
        "# Y = np.stack([Y,Y,Y],axis=2)\n",
        "# X_test = np.stack([X_test,X_test,X_test],axis=2) \n",
        "\n",
        "# Split Train Test Validate\n",
        "X_train, X_val, Y_train, Y_val = train_test_split(X, Y, test_size=0.15, random_state=42)\n",
        "# X_train, X_test, Y_train, Y_test = train_test_split(X_, Y_, test_size=0.1, random_state=42)\n",
        "print('\\nData Rreading, and Splitting Done!\\n')\n",
        "#----------------------------------------------------------------------------------------"
      ],
      "execution_count": 6,
      "outputs": [
        {
          "output_type": "stream",
          "text": [
            "100%|██████████| 40/40 [00:00<00:00, 135.78it/s]\n",
            "100%|██████████| 10/10 [00:00<00:00, 136.29it/s]"
          ],
          "name": "stderr"
        },
        {
          "output_type": "stream",
          "text": [
            "\n",
            "Data Rreading, and Splitting Done!\n",
            "\n"
          ],
          "name": "stdout"
        },
        {
          "output_type": "stream",
          "text": [
            "\n"
          ],
          "name": "stderr"
        }
      ]
    },
    {
      "cell_type": "markdown",
      "metadata": {
        "id": "jlmjyBWZ537V",
        "colab_type": "text"
      },
      "source": [
        "### PreProcess the input, and define the model"
      ]
    },
    {
      "cell_type": "code",
      "metadata": {
        "id": "IJycDAUY5-ZE",
        "colab_type": "code",
        "outputId": "63184197-8abe-4ca7-ca55-671bffb81012",
        "colab": {
          "base_uri": "https://localhost:8080/",
          "height": 279
        }
      },
      "source": [
        "# preprocess input\n",
        "X_train = preprocess_input(X_train)\n",
        "X_val = preprocess_input(X_val)\n",
        "\n",
        "# define model\n",
        "from segmentation_models import Unet\n",
        "from segmentation_models import get_preprocessing\n",
        "from segmentation_models.metrics import iou_score\n",
        "from keras.layers import Input, Conv2D\n",
        "from keras.models import Model\n",
        "\n",
        "# define number of channels\n",
        "N = X.shape[-1]\n",
        "\n",
        "base_model = Unet(BACKBONE, classes=4, activation='softmax',\n",
        "    encoder_weights='imagenet', encoder_freeze=False)\n",
        "# ---------------------------------------------------------------\n",
        "inp = Input(shape=(None, None, N))\n",
        "l1 = Conv2D(3, (1, 1))(inp) # map N channels data to 3 channels\n",
        "out = base_model(l1)\n",
        "\n",
        "model = Model(inp, out, name=base_model.name)\n",
        "\n",
        "# continue with usual steps: compile, fit, etc..\n",
        "#----------------------------------------------------------------\n",
        "# Loss\n",
        "\n",
        "\n",
        "# loss = sm.losses.CategoricalCELoss()\n",
        "loss = sm.losses.CategoricalFocalLoss()\n",
        "opt = tf.keras.optimizers.Adam(lr=1e-4, beta_1=0.9, beta_2=0.999)\n",
        "# Compile Model\n",
        "model.compile(\n",
        "    opt,\n",
        "    loss=loss,\n",
        "    metrics=[sm.metrics.IOUScore(threshold=0.5), sm.metrics.FScore(threshold=0.5)],\n",
        ")\n",
        "model.summary()"
      ],
      "execution_count": 10,
      "outputs": [
        {
          "output_type": "stream",
          "text": [
            "Model: \"model_4\"\n",
            "_________________________________________________________________\n",
            "Layer (type)                 Output Shape              Param #   \n",
            "=================================================================\n",
            "input_2 (InputLayer)         (None, None, None, 1)     0         \n",
            "_________________________________________________________________\n",
            "conv2d_2 (Conv2D)            (None, None, None, 3)     6         \n",
            "_________________________________________________________________\n",
            "model_4 (Model)              (None, None, None, 4)     24456589  \n",
            "=================================================================\n",
            "Total params: 24,456,595\n",
            "Trainable params: 24,439,245\n",
            "Non-trainable params: 17,350\n",
            "_________________________________________________________________\n"
          ],
          "name": "stdout"
        }
      ]
    },
    {
      "cell_type": "markdown",
      "metadata": {
        "id": "iSnaXLnt6D0r",
        "colab_type": "text"
      },
      "source": [
        "### fit model\n",
        "if you use data generator use `model.fit_generator(...)` instead of `model.fit(...)` \n",
        "\n",
        "more about `fit_generator` [here](https://keras.io/models/sequential/#fit_generator)"
      ]
    },
    {
      "cell_type": "code",
      "metadata": {
        "id": "hOzAY4n96U0h",
        "colab_type": "code",
        "outputId": "f546e112-c2b9-420d-dedd-4c40ca6285a1",
        "colab": {
          "base_uri": "https://localhost:8080/",
          "height": 1000
        }
      },
      "source": [
        "# import keras\n",
        "# Model Checkpoint\n",
        "# Callbacks = [\n",
        "#              keras.callbacks.EarlyStopping(patience=3,monitor='val_loss'),\n",
        "             \n",
        "#              keras.callbacks.ModelCheckpoint('Model.h5',\n",
        "#               verbose=1, save_best_only=True) # monitor = 'val_acc', mode = 'auto',\n",
        "#              ]# keras.callbacks.TensorBoard(log_dir='logs'),\n",
        "             \n",
        "history = model.fit(\n",
        "   x=X_train,\n",
        "   y=Y_train,\n",
        "   batch_size=8,\n",
        "   epochs=100,\n",
        "   validation_data=(X_val, Y_val),\n",
        ")\n",
        "\n",
        "# Evaluate Model\n",
        "#================\n",
        "score = model.evaluate(X_test, Y_test, batch_size=8)\n",
        "print('Test loss:', score[0])\n",
        "print('Test accuracy', score[1])\n",
        "#------------------------------------------------------\n",
        "# Save Model\n",
        "#================\n",
        "model.save('my_model.h5')\n",
        "# Delete Model\n",
        "del model"
      ],
      "execution_count": 14,
      "outputs": [
        {
          "output_type": "stream",
          "text": [
            "Train on 34 samples, validate on 6 samples\n",
            "Epoch 1/100\n",
            "34/34 [==============================] - 2s 67ms/step - loss: 0.0019 - iou_score: 0.7706 - f1-score: 0.8064 - val_loss: 0.0048 - val_iou_score: 0.5800 - val_f1-score: 0.6420\n",
            "Epoch 2/100\n",
            "34/34 [==============================] - 2s 67ms/step - loss: 0.0018 - iou_score: 0.8190 - f1-score: 0.8555 - val_loss: 0.0043 - val_iou_score: 0.6029 - val_f1-score: 0.6606\n",
            "Epoch 3/100\n",
            "34/34 [==============================] - 2s 68ms/step - loss: 0.0018 - iou_score: 0.7678 - f1-score: 0.8046 - val_loss: 0.0041 - val_iou_score: 0.6145 - val_f1-score: 0.6692\n",
            "Epoch 4/100\n",
            "34/34 [==============================] - 2s 67ms/step - loss: 0.0017 - iou_score: 0.8229 - f1-score: 0.8578 - val_loss: 0.0041 - val_iou_score: 0.5929 - val_f1-score: 0.6510\n",
            "Epoch 5/100\n",
            "34/34 [==============================] - 2s 67ms/step - loss: 0.0016 - iou_score: 0.8205 - f1-score: 0.8564 - val_loss: 0.0039 - val_iou_score: 0.6070 - val_f1-score: 0.6628\n",
            "Epoch 6/100\n",
            "34/34 [==============================] - 2s 67ms/step - loss: 0.0016 - iou_score: 0.8705 - f1-score: 0.9063 - val_loss: 0.0038 - val_iou_score: 0.6165 - val_f1-score: 0.6703\n",
            "Epoch 7/100\n",
            "34/34 [==============================] - 2s 67ms/step - loss: 0.0015 - iou_score: 0.8269 - f1-score: 0.8602 - val_loss: 0.0036 - val_iou_score: 0.6221 - val_f1-score: 0.6740\n",
            "Epoch 8/100\n",
            "34/34 [==============================] - 2s 67ms/step - loss: 0.0015 - iou_score: 0.8273 - f1-score: 0.8604 - val_loss: 0.0034 - val_iou_score: 0.6290 - val_f1-score: 0.6791\n",
            "Epoch 9/100\n",
            "34/34 [==============================] - 2s 68ms/step - loss: 0.0015 - iou_score: 0.8765 - f1-score: 0.9099 - val_loss: 0.0034 - val_iou_score: 0.6308 - val_f1-score: 0.6800\n",
            "Epoch 10/100\n",
            "34/34 [==============================] - 2s 67ms/step - loss: 0.0014 - iou_score: 0.8294 - f1-score: 0.8616 - val_loss: 0.0030 - val_iou_score: 0.6444 - val_f1-score: 0.6897\n",
            "Epoch 11/100\n",
            "34/34 [==============================] - 2s 67ms/step - loss: 0.0014 - iou_score: 0.8795 - f1-score: 0.9117 - val_loss: 0.0030 - val_iou_score: 0.6386 - val_f1-score: 0.6853\n",
            "Epoch 12/100\n",
            "34/34 [==============================] - 2s 68ms/step - loss: 0.0014 - iou_score: 0.8829 - f1-score: 0.9137 - val_loss: 0.0029 - val_iou_score: 0.6464 - val_f1-score: 0.6908\n",
            "Epoch 13/100\n",
            "34/34 [==============================] - 2s 67ms/step - loss: 0.0013 - iou_score: 0.9329 - f1-score: 0.9637 - val_loss: 0.0029 - val_iou_score: 0.6478 - val_f1-score: 0.6917\n",
            "Epoch 14/100\n",
            "34/34 [==============================] - 2s 67ms/step - loss: 0.0013 - iou_score: 0.9334 - f1-score: 0.9639 - val_loss: 0.0027 - val_iou_score: 0.6522 - val_f1-score: 0.6945\n",
            "Epoch 15/100\n",
            "34/34 [==============================] - 2s 67ms/step - loss: 0.0013 - iou_score: 0.8827 - f1-score: 0.9135 - val_loss: 0.0027 - val_iou_score: 0.6515 - val_f1-score: 0.6940\n",
            "Epoch 16/100\n",
            "34/34 [==============================] - 2s 68ms/step - loss: 0.0013 - iou_score: 0.8789 - f1-score: 0.9111 - val_loss: 0.0026 - val_iou_score: 0.6573 - val_f1-score: 0.6979\n",
            "Epoch 17/100\n",
            "34/34 [==============================] - 2s 67ms/step - loss: 0.0012 - iou_score: 0.9370 - f1-score: 0.9661 - val_loss: 0.0025 - val_iou_score: 0.6560 - val_f1-score: 0.6968\n",
            "Epoch 18/100\n",
            "34/34 [==============================] - 2s 67ms/step - loss: 0.0012 - iou_score: 0.9361 - f1-score: 0.9654 - val_loss: 0.0025 - val_iou_score: 0.6574 - val_f1-score: 0.6978\n",
            "Epoch 19/100\n",
            "34/34 [==============================] - 2s 67ms/step - loss: 0.0013 - iou_score: 0.8857 - f1-score: 0.9151 - val_loss: 0.0024 - val_iou_score: 0.6593 - val_f1-score: 0.6991\n",
            "Epoch 20/100\n",
            "34/34 [==============================] - 2s 67ms/step - loss: 0.0011 - iou_score: 0.9401 - f1-score: 0.9678 - val_loss: 0.0023 - val_iou_score: 0.6600 - val_f1-score: 0.6995\n",
            "Epoch 21/100\n",
            "34/34 [==============================] - 2s 67ms/step - loss: 0.0011 - iou_score: 0.9368 - f1-score: 0.9659 - val_loss: 0.0022 - val_iou_score: 0.6628 - val_f1-score: 0.7014\n",
            "Epoch 22/100\n",
            "34/34 [==============================] - 2s 67ms/step - loss: 0.0011 - iou_score: 0.9414 - f1-score: 0.9686 - val_loss: 0.0022 - val_iou_score: 0.6601 - val_f1-score: 0.6996\n",
            "Epoch 23/100\n",
            "34/34 [==============================] - 2s 67ms/step - loss: 0.0011 - iou_score: 0.9412 - f1-score: 0.9685 - val_loss: 0.0021 - val_iou_score: 0.6633 - val_f1-score: 0.7017\n",
            "Epoch 24/100\n",
            "34/34 [==============================] - 2s 68ms/step - loss: 0.0010 - iou_score: 0.9434 - f1-score: 0.9698 - val_loss: 0.0022 - val_iou_score: 0.6605 - val_f1-score: 0.6999\n",
            "Epoch 25/100\n",
            "34/34 [==============================] - 2s 67ms/step - loss: 0.0010 - iou_score: 0.8951 - f1-score: 0.9207 - val_loss: 0.0021 - val_iou_score: 0.6656 - val_f1-score: 0.7031\n",
            "Epoch 26/100\n",
            "34/34 [==============================] - 2s 67ms/step - loss: 9.8210e-04 - iou_score: 0.9459 - f1-score: 0.9712 - val_loss: 0.0021 - val_iou_score: 0.9143 - val_f1-score: 0.9523\n",
            "Epoch 27/100\n",
            "34/34 [==============================] - 2s 68ms/step - loss: 9.6685e-04 - iou_score: 0.9459 - f1-score: 0.9712 - val_loss: 0.0020 - val_iou_score: 0.9167 - val_f1-score: 0.9538\n",
            "Epoch 28/100\n",
            "34/34 [==============================] - 2s 67ms/step - loss: 9.7703e-04 - iou_score: 0.9414 - f1-score: 0.9684 - val_loss: 0.0020 - val_iou_score: 0.9145 - val_f1-score: 0.9525\n",
            "Epoch 29/100\n",
            "34/34 [==============================] - 2s 68ms/step - loss: 9.4657e-04 - iou_score: 0.9456 - f1-score: 0.9711 - val_loss: 0.0020 - val_iou_score: 0.9166 - val_f1-score: 0.9539\n",
            "Epoch 30/100\n",
            "34/34 [==============================] - 2s 68ms/step - loss: 9.2242e-04 - iou_score: 0.9483 - f1-score: 0.9725 - val_loss: 0.0019 - val_iou_score: 0.9219 - val_f1-score: 0.9571\n",
            "Epoch 31/100\n",
            "34/34 [==============================] - 2s 68ms/step - loss: 9.0002e-04 - iou_score: 0.9491 - f1-score: 0.9730 - val_loss: 0.0018 - val_iou_score: 0.9223 - val_f1-score: 0.9574\n",
            "Epoch 32/100\n",
            "34/34 [==============================] - 2s 67ms/step - loss: 8.6889e-04 - iou_score: 0.9500 - f1-score: 0.9735 - val_loss: 0.0019 - val_iou_score: 0.9207 - val_f1-score: 0.9564\n",
            "Epoch 33/100\n",
            "34/34 [==============================] - 2s 67ms/step - loss: 9.3695e-04 - iou_score: 0.8879 - f1-score: 0.9162 - val_loss: 0.0018 - val_iou_score: 0.9239 - val_f1-score: 0.9583\n",
            "Epoch 34/100\n",
            "34/34 [==============================] - 2s 67ms/step - loss: 8.5471e-04 - iou_score: 0.9529 - f1-score: 0.9751 - val_loss: 0.0017 - val_iou_score: 0.9251 - val_f1-score: 0.9588\n",
            "Epoch 35/100\n",
            "34/34 [==============================] - 2s 67ms/step - loss: 8.8281e-04 - iou_score: 0.9433 - f1-score: 0.9694 - val_loss: 0.0017 - val_iou_score: 0.9263 - val_f1-score: 0.9597\n",
            "Epoch 36/100\n",
            "34/34 [==============================] - 2s 67ms/step - loss: 8.3212e-04 - iou_score: 0.9513 - f1-score: 0.9742 - val_loss: 0.0016 - val_iou_score: 0.9293 - val_f1-score: 0.9615\n",
            "Epoch 37/100\n",
            "34/34 [==============================] - 2s 67ms/step - loss: 8.2004e-04 - iou_score: 0.9541 - f1-score: 0.9758 - val_loss: 0.0016 - val_iou_score: 0.9291 - val_f1-score: 0.9614\n",
            "Epoch 38/100\n",
            "34/34 [==============================] - 2s 67ms/step - loss: 7.9195e-04 - iou_score: 0.9551 - f1-score: 0.9763 - val_loss: 0.0016 - val_iou_score: 0.9316 - val_f1-score: 0.9629\n",
            "Epoch 39/100\n",
            "34/34 [==============================] - 2s 67ms/step - loss: 8.4901e-04 - iou_score: 0.9438 - f1-score: 0.9696 - val_loss: 0.0016 - val_iou_score: 0.9318 - val_f1-score: 0.9630\n",
            "Epoch 40/100\n",
            "34/34 [==============================] - 2s 67ms/step - loss: 8.3049e-04 - iou_score: 0.9512 - f1-score: 0.9742 - val_loss: 0.0016 - val_iou_score: 0.9326 - val_f1-score: 0.9635\n",
            "Epoch 41/100\n",
            "34/34 [==============================] - 2s 67ms/step - loss: 8.2090e-04 - iou_score: 0.9548 - f1-score: 0.9762 - val_loss: 0.0015 - val_iou_score: 0.9341 - val_f1-score: 0.9644\n",
            "Epoch 42/100\n",
            "34/34 [==============================] - 2s 68ms/step - loss: 8.0556e-04 - iou_score: 0.9539 - f1-score: 0.9756 - val_loss: 0.0016 - val_iou_score: 0.9308 - val_f1-score: 0.9625\n",
            "Epoch 43/100\n",
            "34/34 [==============================] - 2s 68ms/step - loss: 7.5199e-04 - iou_score: 0.9564 - f1-score: 0.9771 - val_loss: 0.0016 - val_iou_score: 0.6821 - val_f1-score: 0.7133\n",
            "Epoch 44/100\n",
            "34/34 [==============================] - 2s 67ms/step - loss: 7.2809e-04 - iou_score: 0.9583 - f1-score: 0.9781 - val_loss: 0.0015 - val_iou_score: 0.6836 - val_f1-score: 0.7141\n",
            "Epoch 45/100\n",
            "34/34 [==============================] - 2s 68ms/step - loss: 7.1353e-04 - iou_score: 0.9591 - f1-score: 0.9785 - val_loss: 0.0015 - val_iou_score: 0.9344 - val_f1-score: 0.9646\n",
            "Epoch 46/100\n",
            "34/34 [==============================] - 2s 67ms/step - loss: 7.0482e-04 - iou_score: 0.9555 - f1-score: 0.9765 - val_loss: 0.0015 - val_iou_score: 0.9356 - val_f1-score: 0.9653\n",
            "Epoch 47/100\n",
            "34/34 [==============================] - 2s 68ms/step - loss: 6.8029e-04 - iou_score: 0.9606 - f1-score: 0.9794 - val_loss: 0.0014 - val_iou_score: 0.9362 - val_f1-score: 0.9657\n",
            "Epoch 48/100\n",
            "34/34 [==============================] - 2s 68ms/step - loss: 6.7604e-04 - iou_score: 0.9605 - f1-score: 0.9793 - val_loss: 0.0015 - val_iou_score: 0.9349 - val_f1-score: 0.9649\n",
            "Epoch 49/100\n",
            "34/34 [==============================] - 2s 67ms/step - loss: 6.4803e-04 - iou_score: 0.9585 - f1-score: 0.9781 - val_loss: 0.0014 - val_iou_score: 0.9370 - val_f1-score: 0.9661\n",
            "Epoch 50/100\n",
            "34/34 [==============================] - 2s 67ms/step - loss: 6.4524e-04 - iou_score: 0.9632 - f1-score: 0.9808 - val_loss: 0.0014 - val_iou_score: 0.9390 - val_f1-score: 0.9672\n",
            "Epoch 51/100\n",
            "34/34 [==============================] - 2s 67ms/step - loss: 6.3981e-04 - iou_score: 0.9597 - f1-score: 0.9788 - val_loss: 0.0014 - val_iou_score: 0.9373 - val_f1-score: 0.9663\n",
            "Epoch 52/100\n",
            "34/34 [==============================] - 2s 67ms/step - loss: 6.3566e-04 - iou_score: 0.9629 - f1-score: 0.9806 - val_loss: 0.0014 - val_iou_score: 0.9377 - val_f1-score: 0.9665\n",
            "Epoch 53/100\n",
            "34/34 [==============================] - 2s 68ms/step - loss: 6.0986e-04 - iou_score: 0.9612 - f1-score: 0.9797 - val_loss: 0.0014 - val_iou_score: 0.9399 - val_f1-score: 0.9678\n",
            "Epoch 54/100\n",
            "34/34 [==============================] - 2s 67ms/step - loss: 6.0751e-04 - iou_score: 0.9640 - f1-score: 0.9812 - val_loss: 0.0013 - val_iou_score: 0.9395 - val_f1-score: 0.9675\n",
            "Epoch 55/100\n",
            "34/34 [==============================] - 2s 67ms/step - loss: 5.9672e-04 - iou_score: 0.9623 - f1-score: 0.9803 - val_loss: 0.0014 - val_iou_score: 0.9387 - val_f1-score: 0.9671\n",
            "Epoch 56/100\n",
            "34/34 [==============================] - 2s 67ms/step - loss: 6.0322e-04 - iou_score: 0.9637 - f1-score: 0.9811 - val_loss: 0.0014 - val_iou_score: 0.9400 - val_f1-score: 0.9679\n",
            "Epoch 57/100\n",
            "34/34 [==============================] - 2s 67ms/step - loss: 5.8334e-04 - iou_score: 0.9650 - f1-score: 0.9818 - val_loss: 0.0013 - val_iou_score: 0.9407 - val_f1-score: 0.9682\n",
            "Epoch 58/100\n",
            "34/34 [==============================] - 2s 67ms/step - loss: 5.8904e-04 - iou_score: 0.9608 - f1-score: 0.9794 - val_loss: 0.0013 - val_iou_score: 0.9411 - val_f1-score: 0.9685\n",
            "Epoch 59/100\n",
            "34/34 [==============================] - 2s 67ms/step - loss: 5.7890e-04 - iou_score: 0.9634 - f1-score: 0.9809 - val_loss: 0.0013 - val_iou_score: 0.9409 - val_f1-score: 0.9684\n",
            "Epoch 60/100\n",
            "34/34 [==============================] - 2s 68ms/step - loss: 5.6203e-04 - iou_score: 0.9670 - f1-score: 0.9829 - val_loss: 0.0013 - val_iou_score: 0.9421 - val_f1-score: 0.9691\n",
            "Epoch 61/100\n",
            "34/34 [==============================] - 2s 67ms/step - loss: 5.5126e-04 - iou_score: 0.9674 - f1-score: 0.9831 - val_loss: 0.0014 - val_iou_score: 0.9399 - val_f1-score: 0.9678\n",
            "Epoch 62/100\n",
            "34/34 [==============================] - 2s 67ms/step - loss: 5.3872e-04 - iou_score: 0.9672 - f1-score: 0.9830 - val_loss: 0.0013 - val_iou_score: 0.9393 - val_f1-score: 0.9675\n",
            "Epoch 63/100\n",
            "34/34 [==============================] - 2s 67ms/step - loss: 5.3934e-04 - iou_score: 0.9651 - f1-score: 0.9818 - val_loss: 0.0013 - val_iou_score: 0.9424 - val_f1-score: 0.9692\n",
            "Epoch 64/100\n",
            "34/34 [==============================] - 2s 68ms/step - loss: 5.2687e-04 - iou_score: 0.9684 - f1-score: 0.9836 - val_loss: 0.0013 - val_iou_score: 0.9435 - val_f1-score: 0.9699\n",
            "Epoch 65/100\n",
            "34/34 [==============================] - 2s 67ms/step - loss: 5.1202e-04 - iou_score: 0.9684 - f1-score: 0.9836 - val_loss: 0.0013 - val_iou_score: 0.9419 - val_f1-score: 0.9690\n",
            "Epoch 66/100\n",
            "34/34 [==============================] - 2s 67ms/step - loss: 5.0496e-04 - iou_score: 0.9703 - f1-score: 0.9846 - val_loss: 0.0013 - val_iou_score: 0.9427 - val_f1-score: 0.9695\n",
            "Epoch 67/100\n",
            "34/34 [==============================] - 2s 67ms/step - loss: 5.1137e-04 - iou_score: 0.9666 - f1-score: 0.9826 - val_loss: 0.0013 - val_iou_score: 0.9429 - val_f1-score: 0.9695\n",
            "Epoch 68/100\n",
            "34/34 [==============================] - 2s 68ms/step - loss: 5.4455e-04 - iou_score: 0.9582 - f1-score: 0.9777 - val_loss: 0.0013 - val_iou_score: 0.9429 - val_f1-score: 0.9695\n",
            "Epoch 69/100\n",
            "34/34 [==============================] - 2s 68ms/step - loss: 5.4214e-04 - iou_score: 0.9659 - f1-score: 0.9823 - val_loss: 0.0012 - val_iou_score: 0.9433 - val_f1-score: 0.9697\n",
            "Epoch 70/100\n",
            "34/34 [==============================] - 2s 67ms/step - loss: 5.1980e-04 - iou_score: 0.9653 - f1-score: 0.9819 - val_loss: 0.0012 - val_iou_score: 0.9438 - val_f1-score: 0.9700\n",
            "Epoch 71/100\n",
            "34/34 [==============================] - 2s 67ms/step - loss: 5.1614e-04 - iou_score: 0.9691 - f1-score: 0.9840 - val_loss: 0.0012 - val_iou_score: 0.9472 - val_f1-score: 0.9720\n",
            "Epoch 72/100\n",
            "34/34 [==============================] - 2s 67ms/step - loss: 5.0421e-04 - iou_score: 0.9683 - f1-score: 0.9836 - val_loss: 0.0012 - val_iou_score: 0.9463 - val_f1-score: 0.9715\n",
            "Epoch 73/100\n",
            "34/34 [==============================] - 2s 67ms/step - loss: 5.4223e-04 - iou_score: 0.9563 - f1-score: 0.9765 - val_loss: 0.0012 - val_iou_score: 0.9448 - val_f1-score: 0.9706\n",
            "Epoch 74/100\n",
            "34/34 [==============================] - 2s 68ms/step - loss: 6.4730e-04 - iou_score: 0.9545 - f1-score: 0.9759 - val_loss: 0.0012 - val_iou_score: 0.9432 - val_f1-score: 0.9697\n",
            "Epoch 75/100\n",
            "34/34 [==============================] - 2s 68ms/step - loss: 5.6186e-04 - iou_score: 0.9637 - f1-score: 0.9811 - val_loss: 0.0012 - val_iou_score: 0.9438 - val_f1-score: 0.9700\n",
            "Epoch 76/100\n",
            "34/34 [==============================] - 2s 67ms/step - loss: 5.6828e-04 - iou_score: 0.9612 - f1-score: 0.9796 - val_loss: 0.0013 - val_iou_score: 0.9406 - val_f1-score: 0.9683\n",
            "Epoch 77/100\n",
            "34/34 [==============================] - 2s 68ms/step - loss: 5.2956e-04 - iou_score: 0.9645 - f1-score: 0.9815 - val_loss: 0.0013 - val_iou_score: 0.9401 - val_f1-score: 0.9680\n",
            "Epoch 78/100\n",
            "34/34 [==============================] - 2s 68ms/step - loss: 5.2167e-04 - iou_score: 0.9674 - f1-score: 0.9831 - val_loss: 0.0012 - val_iou_score: 0.9457 - val_f1-score: 0.9711\n",
            "Epoch 79/100\n",
            "34/34 [==============================] - 2s 67ms/step - loss: 4.8038e-04 - iou_score: 0.9690 - f1-score: 0.9840 - val_loss: 0.0012 - val_iou_score: 0.9452 - val_f1-score: 0.9709\n",
            "Epoch 80/100\n",
            "34/34 [==============================] - 2s 67ms/step - loss: 4.8487e-04 - iou_score: 0.9660 - f1-score: 0.9823 - val_loss: 0.0012 - val_iou_score: 0.9458 - val_f1-score: 0.9712\n",
            "Epoch 81/100\n",
            "34/34 [==============================] - 2s 67ms/step - loss: 4.7656e-04 - iou_score: 0.9623 - f1-score: 0.9801 - val_loss: 0.0012 - val_iou_score: 0.9468 - val_f1-score: 0.9718\n",
            "Epoch 82/100\n",
            "34/34 [==============================] - 2s 67ms/step - loss: 4.6855e-04 - iou_score: 0.9695 - f1-score: 0.9842 - val_loss: 0.0011 - val_iou_score: 0.9458 - val_f1-score: 0.9712\n",
            "Epoch 83/100\n",
            "34/34 [==============================] - 2s 67ms/step - loss: 4.5386e-04 - iou_score: 0.9725 - f1-score: 0.9858 - val_loss: 0.0011 - val_iou_score: 0.9469 - val_f1-score: 0.9718\n",
            "Epoch 84/100\n",
            "34/34 [==============================] - 2s 67ms/step - loss: 4.4859e-04 - iou_score: 0.9718 - f1-score: 0.9854 - val_loss: 0.0011 - val_iou_score: 0.9484 - val_f1-score: 0.9727\n",
            "Epoch 85/100\n",
            "34/34 [==============================] - 2s 67ms/step - loss: 4.3534e-04 - iou_score: 0.9725 - f1-score: 0.9858 - val_loss: 0.0011 - val_iou_score: 0.9474 - val_f1-score: 0.9722\n",
            "Epoch 86/100\n",
            "34/34 [==============================] - 2s 67ms/step - loss: 4.2898e-04 - iou_score: 0.9706 - f1-score: 0.9848 - val_loss: 0.0012 - val_iou_score: 0.9472 - val_f1-score: 0.9720\n",
            "Epoch 87/100\n",
            "34/34 [==============================] - 2s 68ms/step - loss: 4.2581e-04 - iou_score: 0.9730 - f1-score: 0.9861 - val_loss: 0.0011 - val_iou_score: 0.9486 - val_f1-score: 0.9728\n",
            "Epoch 88/100\n",
            "34/34 [==============================] - 2s 67ms/step - loss: 4.2839e-04 - iou_score: 0.9676 - f1-score: 0.9830 - val_loss: 0.0011 - val_iou_score: 0.9465 - val_f1-score: 0.9716\n",
            "Epoch 89/100\n",
            "34/34 [==============================] - 2s 67ms/step - loss: 4.2887e-04 - iou_score: 0.9693 - f1-score: 0.9840 - val_loss: 0.0011 - val_iou_score: 0.9458 - val_f1-score: 0.9712\n",
            "Epoch 90/100\n",
            "34/34 [==============================] - 2s 67ms/step - loss: 4.4762e-04 - iou_score: 0.9722 - f1-score: 0.9856 - val_loss: 0.0011 - val_iou_score: 0.9471 - val_f1-score: 0.9719\n",
            "Epoch 91/100\n",
            "34/34 [==============================] - 2s 67ms/step - loss: 4.2684e-04 - iou_score: 0.9702 - f1-score: 0.9845 - val_loss: 0.0011 - val_iou_score: 0.9482 - val_f1-score: 0.9726\n",
            "Epoch 92/100\n",
            "34/34 [==============================] - 2s 67ms/step - loss: 4.2283e-04 - iou_score: 0.9703 - f1-score: 0.9846 - val_loss: 0.0012 - val_iou_score: 0.9481 - val_f1-score: 0.9725\n",
            "Epoch 93/100\n",
            "34/34 [==============================] - 2s 67ms/step - loss: 4.1922e-04 - iou_score: 0.9666 - f1-score: 0.9824 - val_loss: 0.0011 - val_iou_score: 0.9494 - val_f1-score: 0.9732\n",
            "Epoch 94/100\n",
            "34/34 [==============================] - 2s 67ms/step - loss: 4.0280e-04 - iou_score: 0.9741 - f1-score: 0.9867 - val_loss: 0.0011 - val_iou_score: 0.9492 - val_f1-score: 0.9731\n",
            "Epoch 95/100\n",
            "34/34 [==============================] - 2s 67ms/step - loss: 3.8801e-04 - iou_score: 0.9747 - f1-score: 0.9870 - val_loss: 0.0011 - val_iou_score: 0.9493 - val_f1-score: 0.9732\n",
            "Epoch 96/100\n",
            "34/34 [==============================] - 2s 68ms/step - loss: 3.9363e-04 - iou_score: 0.9742 - f1-score: 0.9867 - val_loss: 0.0011 - val_iou_score: 0.9495 - val_f1-score: 0.9733\n",
            "Epoch 97/100\n",
            "34/34 [==============================] - 2s 68ms/step - loss: 3.8964e-04 - iou_score: 0.9723 - f1-score: 0.9857 - val_loss: 0.0011 - val_iou_score: 0.9494 - val_f1-score: 0.9732\n",
            "Epoch 98/100\n",
            "34/34 [==============================] - 2s 67ms/step - loss: 3.8428e-04 - iou_score: 0.9758 - f1-score: 0.9876 - val_loss: 0.0011 - val_iou_score: 0.9490 - val_f1-score: 0.9730\n",
            "Epoch 99/100\n",
            "34/34 [==============================] - 2s 67ms/step - loss: 3.6241e-04 - iou_score: 0.9758 - f1-score: 0.9875 - val_loss: 0.0011 - val_iou_score: 0.9507 - val_f1-score: 0.9739\n",
            "Epoch 100/100\n",
            "34/34 [==============================] - 2s 67ms/step - loss: 3.6082e-04 - iou_score: 0.9762 - f1-score: 0.9878 - val_loss: 0.0011 - val_iou_score: 0.9506 - val_f1-score: 0.9739\n",
            "10/10 [==============================] - 0s 20ms/step\n",
            "Test loss: 0.003474865388125181\n",
            "Test accuracy 0.8719897270202637\n"
          ],
          "name": "stdout"
        },
        {
          "output_type": "stream",
          "text": [
            "/usr/local/lib/python3.6/dist-packages/keras/engine/saving.py:165: UserWarning: TensorFlow optimizers do not make it possible to access optimizer attributes or optimizer state after instantiation. As a result, we cannot save the optimizer as part of the model save file.You will have to compile your model again after loading it. Prefer using a Keras optimizer instead (see keras.io/optimizers).\n",
            "  'TensorFlow optimizers do not '\n"
          ],
          "name": "stderr"
        }
      ]
    },
    {
      "cell_type": "markdown",
      "metadata": {
        "id": "sANIlQqD7WYK",
        "colab_type": "text"
      },
      "source": [
        "### Visualize fitting curve"
      ]
    },
    {
      "cell_type": "code",
      "metadata": {
        "id": "TzQE-yuOFwdk",
        "colab_type": "code",
        "colab": {
          "base_uri": "https://localhost:8080/",
          "height": 258
        },
        "outputId": "a8708088-b863-4198-a79d-a8d54db92d9f"
      },
      "source": [
        "plt.figure(figsize=(30, 5), num = 'Metrics')\n",
        "plt.subplot(121)\n",
        "plt.plot(history.history['iou_score'])\n",
        "plt.plot(history.history['val_iou_score'])\n",
        "plt.title('Model iou_score')\n",
        "plt.ylabel('iou_score')\n",
        "plt.xlabel('Epoch')\n",
        "plt.legend(['Train', 'Test'], loc='upper left')\n",
        "\n",
        "# Plot training & validation loss values\n",
        "plt.subplot(122)\n",
        "plt.plot(history.history['loss'])\n",
        "plt.plot(history.history['val_loss'])\n",
        "plt.title('Model loss')\n",
        "plt.ylabel('Loss')\n",
        "plt.xlabel('Epoch')\n",
        "plt.legend(['Train', 'Test'], loc='upper left')"
      ],
      "execution_count": 15,
      "outputs": [
        {
          "output_type": "execute_result",
          "data": {
            "text/plain": [
              "<matplotlib.legend.Legend at 0x7fa7784bab00>"
            ]
          },
          "metadata": {
            "tags": []
          },
          "execution_count": 15
        },
        {
          "output_type": "display_data",
          "data": {
            "image/png": "[encoded data removed]",
            "text/plain": [
              "<Figure size 2160x360 with 2 Axes>"
            ]
          },
          "metadata": {
            "tags": [],
            "needs_background": "light"
          }
        }
      ]
    },
    {
      "cell_type": "markdown",
      "metadata": {
        "id": "PwfWa8yZ85bV",
        "colab_type": "text"
      },
      "source": [
        "### Load Model"
      ]
    },
    {
      "cell_type": "code",
      "metadata": {
        "id": "4-QMcGmG8_A7",
        "colab_type": "code",
        "outputId": "88b2fd26-f2bb-46c8-ecf9-af285686a6cd",
        "colab": {
          "base_uri": "https://localhost:8080/",
          "height": 73
        }
      },
      "source": [
        "model = tf.keras.models.load_model(\"my_model.h5\",compile=False)\n",
        "model.compile( 'Adam',\n",
        "    loss=loss,\n",
        "    metrics=[sm.metrics.IOUScore(threshold=0.5), sm.metrics.FScore(threshold=0.5)])\n",
        "#\n",
        "score = model.evaluate(X_test, Y_test, batch_size=100, verbose=1)\n",
        "print('Test loss:', score[0])\n",
        "print('Test accuracy', score[1])\n",
        "#\n",
        "prediction = model.predict(X_test)"
      ],
      "execution_count": 16,
      "outputs": [
        {
          "output_type": "stream",
          "text": [
            "1/1 [==============================] - 0s 1ms/step - loss: 0.0035 - iou_score: 0.8731 - f1-score: 0.9275\n",
            "Test loss: 0.0034748632460832596\n",
            "Test accuracy 0.8731422424316406\n"
          ],
          "name": "stdout"
        }
      ]
    },
    {
      "cell_type": "markdown",
      "metadata": {
        "id": "ryG_jQVe6DC-",
        "colab_type": "text"
      },
      "source": [
        "### Visualize the Results"
      ]
    },
    {
      "cell_type": "code",
      "metadata": {
        "id": "1WsvdpCr7Nx1",
        "colab_type": "code",
        "outputId": "461fc79d-b165-4cd1-dabf-92fce705dab3",
        "colab": {
          "base_uri": "https://localhost:8080/",
          "height": 283
        }
      },
      "source": [
        "plt.figure(num='UNET Efficient Net B7')\n",
        "\n",
        "plt.subplot('221')\n",
        "plt.imshow(np.squeeze(X_train[30]),cmap='gray')\n",
        "plt.title('Train Image')\n",
        "plt.axis('off')\n",
        "\n",
        "print(np.sum(Y_train[30][:,:,3]))\n",
        "\n",
        "plt.subplot('222')\n",
        "plt.imshow(Y_train[20][:,:,3],cmap='gray')\n",
        "plt.title('Train Mask')\n",
        "plt.axis('off')\n",
        "\n",
        "plt.subplot('223')\n",
        "plt.imshow(np.squeeze(X_test[9]),cmap='gray')\n",
        "plt.title('Test Image')\n",
        "plt.axis('off')\n",
        "\n",
        "plt.subplot('224')\n",
        "plt.imshow(prediction[9][:,:,3],cmap='gray')\n",
        "plt.title('Prediction')\n",
        "plt.axis('off')\n",
        "\n",
        "plt.show()"
      ],
      "execution_count": 48,
      "outputs": [
        {
          "output_type": "stream",
          "text": [
            "0\n"
          ],
          "name": "stdout"
        },
        {
          "output_type": "display_data",
          "data": {
            "image/png": "[encoded data removed]",
            "text/plain": [
              "<Figure size 432x288 with 4 Axes>"
            ]
          },
          "metadata": {
            "tags": [],
            "needs_background": "light"
          }
        }
      ]
    }
  ]
}