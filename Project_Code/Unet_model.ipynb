{
  "nbformat": 4,
  "nbformat_minor": 0,
  "metadata": {
    "colab": {
      "name": "SSI_Project.ipynb",
      "provenance": [],
      "collapsed_sections": []
    },
    "kernelspec": {
      "name": "python3",
      "display_name": "Python 3"
    }
  },
  "cells": [
    {
      "cell_type": "code",
      "metadata": {
        "id": "bUBtfaFxf3he",
        "colab_type": "code",
        "colab": {
          "base_uri": "https://localhost:8080/",
          "height": 34
        },
        "outputId": "7dd35fb5-3062-4c6a-ebb2-e66c0d6180eb"
      },
      "source": [
        "import os\n",
        "import sys\n",
        "import random\n",
        "import warnings\n",
        "\n",
        "import numpy as np\n",
        "import pandas as pd\n",
        "import nibabel as nib\n",
        "import matplotlib.pyplot as plt\n",
        "\n",
        "from tqdm import tqdm\n",
        "from itertools import chain\n",
        "from skimage.io import imread, imshow, imread_collection, concatenate_images\n",
        "from skimage.transform import resize\n",
        "from skimage.morphology import label\n",
        "\n",
        "from keras.models import Model, load_model\n",
        "from keras.layers import Input\n",
        "from keras.layers.core import Dropout, Lambda\n",
        "from keras.layers.convolutional import Conv2D, Conv2DTranspose\n",
        "from keras.layers.pooling import MaxPooling2D\n",
        "from keras.layers.merge import concatenate\n",
        "from keras.callbacks import EarlyStopping, ModelCheckpoint\n",
        "from keras import backend as K\n",
        "\n",
        "import tensorflow as tf"
      ],
      "execution_count": 2,
      "outputs": [
        {
          "output_type": "stream",
          "text": [
            "Using TensorFlow backend.\n"
          ],
          "name": "stderr"
        }
      ]
    },
    {
      "cell_type": "code",
      "metadata": {
        "id": "6GB8XrTVf_J0",
        "colab_type": "code",
        "colab": {
          "base_uri": "https://localhost:8080/",
          "height": 399
        },
        "outputId": "73468a3f-b266-40bb-ef94-18958150ecbf"
      },
      "source": [
        "#Download the dataset\n",
        "!wget https://zenodo.org/record/3757476/files/COVID-19-CT-Seg_20cases.zip?download=1\n",
        "!wget https://zenodo.org/record/3757476/files/Lung_and_Infection_Mask.zip?download=1"
      ],
      "execution_count": 1,
      "outputs": [
        {
          "output_type": "stream",
          "text": [
            "--2020-05-28 13:49:31--  https://zenodo.org/record/3757476/files/COVID-19-CT-Seg_20cases.zip?download=1\n",
            "Resolving zenodo.org (zenodo.org)... 188.184.117.155\n",
            "Connecting to zenodo.org (zenodo.org)|188.184.117.155|:443... connected.\n",
            "HTTP request sent, awaiting response... 200 OK\n",
            "Length: 1105395143 (1.0G) [application/octet-stream]\n",
            "Saving to: ‘COVID-19-CT-Seg_20cases.zip?download=1’\n",
            "\n",
            "COVID-19-CT-Seg_20c 100%[===================>]   1.03G  10.8MB/s    in 2m 30s  \n",
            "\n",
            "2020-05-28 13:52:08 (7.01 MB/s) - ‘COVID-19-CT-Seg_20cases.zip?download=1’ saved [1105395143/1105395143]\n",
            "\n",
            "--2020-05-28 13:52:09--  https://zenodo.org/record/3757476/files/Lung_and_Infection_Mask.zip?download=1\n",
            "Resolving zenodo.org (zenodo.org)... 188.184.117.155\n",
            "Connecting to zenodo.org (zenodo.org)|188.184.117.155|:443... connected.\n",
            "HTTP request sent, awaiting response... 200 OK\n",
            "Length: 11714838 (11M) [application/octet-stream]\n",
            "Saving to: ‘Lung_and_Infection_Mask.zip?download=1’\n",
            "\n",
            "Lung_and_Infection_ 100%[===================>]  11.17M  4.12MB/s    in 2.7s    \n",
            "\n",
            "2020-05-28 13:53:01 (4.12 MB/s) - ‘Lung_and_Infection_Mask.zip?download=1’ saved [11714838/11714838]\n",
            "\n"
          ],
          "name": "stdout"
        }
      ]
    },
    {
      "cell_type": "code",
      "metadata": {
        "id": "8Xy2Zx3hgFdp",
        "colab_type": "code",
        "colab": {}
      },
      "source": [
        "#Rename zip file\n",
        "!mv COVID-19-CT-Seg_20cases.zip?download=1 COVID-19-CT-Seg_20cases.zip\n",
        "!mv Lung_and_Infection_Mask.zip?download=1 Lung_and_Infection_Mask.zip"
      ],
      "execution_count": 0,
      "outputs": []
    },
    {
      "cell_type": "code",
      "metadata": {
        "id": "jpV5tM1AgHPu",
        "colab_type": "code",
        "colab": {
          "base_uri": "https://localhost:8080/",
          "height": 764
        },
        "outputId": "b5979f08-b795-45e0-cac2-c92b7c3932c1"
      },
      "source": [
        "#extract data \n",
        "!mkdir images && unzip COVID-19-CT-Seg_20cases.zip -d images\n",
        "!mkdir masks && unzip Lung_and_Infection_Mask.zip -d masks\n",
        "!rm images/ReadMe.txt\n"
      ],
      "execution_count": 4,
      "outputs": [
        {
          "output_type": "stream",
          "text": [
            "Archive:  COVID-19-CT-Seg_20cases.zip\n",
            "  inflating: images/coronacases_001.nii.gz  \n",
            "  inflating: images/coronacases_002.nii.gz  \n",
            "  inflating: images/coronacases_003.nii.gz  \n",
            "  inflating: images/coronacases_004.nii.gz  \n",
            "  inflating: images/coronacases_005.nii.gz  \n",
            "  inflating: images/coronacases_006.nii.gz  \n",
            "  inflating: images/coronacases_007.nii.gz  \n",
            "  inflating: images/coronacases_008.nii.gz  \n",
            "  inflating: images/coronacases_009.nii.gz  \n",
            "  inflating: images/coronacases_010.nii.gz  \n",
            "  inflating: images/radiopaedia_10_85902_1.nii.gz  \n",
            "  inflating: images/radiopaedia_10_85902_3.nii.gz  \n",
            "  inflating: images/radiopaedia_14_85914_0.nii.gz  \n",
            "  inflating: images/radiopaedia_27_86410_0.nii.gz  \n",
            "  inflating: images/radiopaedia_29_86490_1.nii.gz  \n",
            "  inflating: images/radiopaedia_29_86491_1.nii.gz  \n",
            "  inflating: images/radiopaedia_36_86526_0.nii.gz  \n",
            "  inflating: images/radiopaedia_40_86625_0.nii.gz  \n",
            "  inflating: images/radiopaedia_4_85506_1.nii.gz  \n",
            "  inflating: images/radiopaedia_7_85703_0.nii.gz  \n",
            "  inflating: images/ReadMe.txt       \n",
            "Archive:  Lung_and_Infection_Mask.zip\n",
            "  inflating: masks/coronacases_001.nii.gz  \n",
            "  inflating: masks/coronacases_002.nii.gz  \n",
            "  inflating: masks/coronacases_003.nii.gz  \n",
            "  inflating: masks/coronacases_004.nii.gz  \n",
            "  inflating: masks/coronacases_005.nii.gz  \n",
            "  inflating: masks/coronacases_006.nii.gz  \n",
            "  inflating: masks/coronacases_007.nii.gz  \n",
            "  inflating: masks/coronacases_008.nii.gz  \n",
            "  inflating: masks/coronacases_009.nii.gz  \n",
            "  inflating: masks/coronacases_010.nii.gz  \n",
            "  inflating: masks/radiopaedia_10_85902_1.nii.gz  \n",
            "  inflating: masks/radiopaedia_10_85902_3.nii.gz  \n",
            "  inflating: masks/radiopaedia_14_85914_0.nii.gz  \n",
            "  inflating: masks/radiopaedia_27_86410_0.nii.gz  \n",
            "  inflating: masks/radiopaedia_29_86490_1.nii.gz  \n",
            "  inflating: masks/radiopaedia_29_86491_1.nii.gz  \n",
            "  inflating: masks/radiopaedia_36_86526_0.nii.gz  \n",
            "  inflating: masks/radiopaedia_40_86625_0.nii.gz  \n",
            "  inflating: masks/radiopaedia_4_85506_1.nii.gz  \n",
            "  inflating: masks/radiopaedia_7_85703_0.nii.gz  \n"
          ],
          "name": "stdout"
        }
      ]
    },
    {
      "cell_type": "code",
      "metadata": {
        "id": "JzfQvXT7gIok",
        "colab_type": "code",
        "colab": {}
      },
      "source": [
        "#load data"
      ],
      "execution_count": 0,
      "outputs": []
    },
    {
      "cell_type": "code",
      "metadata": {
        "id": "u0T6beIThipk",
        "colab_type": "code",
        "colab": {}
      },
      "source": [
        "#IOU metrics\n",
        "def mean_iou(y_true, y_pred):\n",
        "    prec = []\n",
        "    for t in np.arange(0.5, 1.0, 0.05):\n",
        "        y_pred_ = tf.to_int32(y_pred > t)\n",
        "        score, up_opt = tf.metrics.mean_iou(y_true, y_pred_, 2)\n",
        "        K.get_session().run(tf.local_variables_initializer())\n",
        "        with tf.control_dependencies([up_opt]):\n",
        "            score = tf.identity(score)\n",
        "        prec.append(score)\n",
        "    return K.mean(K.stack(prec), axis=0)"
      ],
      "execution_count": 0,
      "outputs": []
    },
    {
      "cell_type": "code",
      "metadata": {
        "id": "MnZCcGZPhjTh",
        "colab_type": "code",
        "colab": {}
      },
      "source": [
        "#Dice Coefficient metrics\n",
        "def dice_coef(y_true, y_pred, smooth=10e-6):\n",
        "    intersection = K.sum(K.abs(y_true * y_pred), axis=-1)\n",
        "    return (2. * intersection + smooth) / (K.sum(K.square(y_true),-1) + K.sum(K.square(y_pred),-1) + smooth)\n",
        "def dice_coef_loss(y_true, y_pred):\n",
        "    return 1-dice_coef(y_true, y_pred)"
      ],
      "execution_count": 0,
      "outputs": []
    },
    {
      "cell_type": "code",
      "metadata": {
        "id": "1G9-5FUJhlsq",
        "colab_type": "code",
        "colab": {
          "base_uri": "https://localhost:8080/",
          "height": 1000
        },
        "outputId": "87510842-88b9-43b9-e4d6-97e1a20bec2e"
      },
      "source": [
        "# Build U-Net model\n",
        "inputs = Input((None, None, 3))\n",
        "\n",
        "c1 = Conv2D(64, (3, 3), activation='relu', kernel_initializer='he_normal', padding='same') (inputs)\n",
        "c1 = Dropout(0.1) (c1)\n",
        "c1 = Conv2D(64, (3, 3), activation='relu', kernel_initializer='he_normal', padding='same') (c1)\n",
        "p1 = MaxPooling2D((2, 2)) (c1)\n",
        "\n",
        "c2 = Conv2D(128, (3, 3), activation='relu', kernel_initializer='he_normal', padding='same') (p1)\n",
        "c2 = Dropout(0.1) (c2)\n",
        "c2 = Conv2D(128, (3, 3), activation='relu', kernel_initializer='he_normal', padding='same') (c2)\n",
        "p2 = MaxPooling2D((2, 2)) (c2)\n",
        "\n",
        "c3 = Conv2D(256, (3, 3), activation='relu', kernel_initializer='he_normal', padding='same') (p2)\n",
        "c3 = Dropout(0.2) (c3)\n",
        "c3 = Conv2D(256, (3, 3), activation='relu', kernel_initializer='he_normal', padding='same') (c3)\n",
        "p3 = MaxPooling2D((2, 2)) (c3)\n",
        "\n",
        "c4 = Conv2D(512, (3, 3), activation='relu', kernel_initializer='he_normal', padding='same') (p3)\n",
        "c4 = Dropout(0.2) (c4)\n",
        "c4 = Conv2D(512, (3, 3), activation='relu', kernel_initializer='he_normal', padding='same') (c4)\n",
        "p4 = MaxPooling2D(pool_size=(2, 2)) (c4)\n",
        "\n",
        "c5 = Conv2D(1024, (3, 3), activation='relu', kernel_initializer='he_normal', padding='same') (p4)\n",
        "c5 = Dropout(0.3) (c5)\n",
        "c5 = Conv2D(1024, (3, 3), activation='relu', kernel_initializer='he_normal', padding='same') (c5)\n",
        "\n",
        "u6 = Conv2DTranspose(512, (2, 2), strides=(2, 2), padding='same') (c5)\n",
        "u6 = concatenate([u6, c4])\n",
        "c6 = Conv2D(512, (3, 3), activation='relu', kernel_initializer='he_normal', padding='same') (u6)\n",
        "c6 = Dropout(0.2) (c6)\n",
        "c6 = Conv2D(512, (3, 3), activation='relu', kernel_initializer='he_normal', padding='same') (c6)\n",
        "\n",
        "u7 = Conv2DTranspose(256, (2, 2), strides=(2, 2), padding='same') (c6)\n",
        "u7 = concatenate([u7, c3])\n",
        "c7 = Conv2D(256, (3, 3), activation='relu', kernel_initializer='he_normal', padding='same') (u7)\n",
        "c7 = Dropout(0.2) (c7)\n",
        "c7 = Conv2D(256, (3, 3), activation='relu', kernel_initializer='he_normal', padding='same') (c7)\n",
        "\n",
        "u8 = Conv2DTranspose(128, (2, 2), strides=(2, 2), padding='same') (c7)\n",
        "u8 = concatenate([u8, c2])\n",
        "c8 = Conv2D(128, (3, 3), activation='relu', kernel_initializer='he_normal', padding='same') (u8)\n",
        "c8 = Dropout(0.1) (c8)\n",
        "c8 = Conv2D(128, (3, 3), activation='relu', kernel_initializer='he_normal', padding='same') (c8)\n",
        "\n",
        "u9 = Conv2DTranspose(64, (2, 2), strides=(2, 2), padding='same') (c8)\n",
        "u9 = concatenate([u9, c1], axis=3)\n",
        "c9 = Conv2D(64, (3, 3), activation='relu', kernel_initializer='he_normal', padding='same') (u9)\n",
        "c9 = Dropout(0.1) (c9)\n",
        "c9 = Conv2D(64, (3, 3), activation='relu', kernel_initializer='he_normal', padding='same') (c9)\n",
        "\n",
        "outputs = Conv2D(4, (1, 1), activation='softmax') (c9)\n",
        "\n",
        "model = Model(inputs=[inputs], outputs=[outputs])\n",
        "model.compile(optimizer='adam', loss= dice_coef_loss, metrics= [dice_coef])\n",
        "model.summary()"
      ],
      "execution_count": 23,
      "outputs": [
        {
          "output_type": "stream",
          "text": [
            "Model: \"model_2\"\n",
            "__________________________________________________________________________________________________\n",
            "Layer (type)                    Output Shape         Param #     Connected to                     \n",
            "==================================================================================================\n",
            "input_4 (InputLayer)            (None, None, None, 3 0                                            \n",
            "__________________________________________________________________________________________________\n",
            "conv2d_20 (Conv2D)              (None, None, None, 6 1792        input_4[0][0]                    \n",
            "__________________________________________________________________________________________________\n",
            "dropout_10 (Dropout)            (None, None, None, 6 0           conv2d_20[0][0]                  \n",
            "__________________________________________________________________________________________________\n",
            "conv2d_21 (Conv2D)              (None, None, None, 6 36928       dropout_10[0][0]                 \n",
            "__________________________________________________________________________________________________\n",
            "max_pooling2d_5 (MaxPooling2D)  (None, None, None, 6 0           conv2d_21[0][0]                  \n",
            "__________________________________________________________________________________________________\n",
            "conv2d_22 (Conv2D)              (None, None, None, 1 73856       max_pooling2d_5[0][0]            \n",
            "__________________________________________________________________________________________________\n",
            "dropout_11 (Dropout)            (None, None, None, 1 0           conv2d_22[0][0]                  \n",
            "__________________________________________________________________________________________________\n",
            "conv2d_23 (Conv2D)              (None, None, None, 1 147584      dropout_11[0][0]                 \n",
            "__________________________________________________________________________________________________\n",
            "max_pooling2d_6 (MaxPooling2D)  (None, None, None, 1 0           conv2d_23[0][0]                  \n",
            "__________________________________________________________________________________________________\n",
            "conv2d_24 (Conv2D)              (None, None, None, 2 295168      max_pooling2d_6[0][0]            \n",
            "__________________________________________________________________________________________________\n",
            "dropout_12 (Dropout)            (None, None, None, 2 0           conv2d_24[0][0]                  \n",
            "__________________________________________________________________________________________________\n",
            "conv2d_25 (Conv2D)              (None, None, None, 2 590080      dropout_12[0][0]                 \n",
            "__________________________________________________________________________________________________\n",
            "max_pooling2d_7 (MaxPooling2D)  (None, None, None, 2 0           conv2d_25[0][0]                  \n",
            "__________________________________________________________________________________________________\n",
            "conv2d_26 (Conv2D)              (None, None, None, 5 1180160     max_pooling2d_7[0][0]            \n",
            "__________________________________________________________________________________________________\n",
            "dropout_13 (Dropout)            (None, None, None, 5 0           conv2d_26[0][0]                  \n",
            "__________________________________________________________________________________________________\n",
            "conv2d_27 (Conv2D)              (None, None, None, 5 2359808     dropout_13[0][0]                 \n",
            "__________________________________________________________________________________________________\n",
            "max_pooling2d_8 (MaxPooling2D)  (None, None, None, 5 0           conv2d_27[0][0]                  \n",
            "__________________________________________________________________________________________________\n",
            "conv2d_28 (Conv2D)              (None, None, None, 1 4719616     max_pooling2d_8[0][0]            \n",
            "__________________________________________________________________________________________________\n",
            "dropout_14 (Dropout)            (None, None, None, 1 0           conv2d_28[0][0]                  \n",
            "__________________________________________________________________________________________________\n",
            "conv2d_29 (Conv2D)              (None, None, None, 1 9438208     dropout_14[0][0]                 \n",
            "__________________________________________________________________________________________________\n",
            "conv2d_transpose_5 (Conv2DTrans (None, None, None, 5 2097664     conv2d_29[0][0]                  \n",
            "__________________________________________________________________________________________________\n",
            "concatenate_5 (Concatenate)     (None, None, None, 1 0           conv2d_transpose_5[0][0]         \n",
            "                                                                 conv2d_27[0][0]                  \n",
            "__________________________________________________________________________________________________\n",
            "conv2d_30 (Conv2D)              (None, None, None, 5 4719104     concatenate_5[0][0]              \n",
            "__________________________________________________________________________________________________\n",
            "dropout_15 (Dropout)            (None, None, None, 5 0           conv2d_30[0][0]                  \n",
            "__________________________________________________________________________________________________\n",
            "conv2d_31 (Conv2D)              (None, None, None, 5 2359808     dropout_15[0][0]                 \n",
            "__________________________________________________________________________________________________\n",
            "conv2d_transpose_6 (Conv2DTrans (None, None, None, 2 524544      conv2d_31[0][0]                  \n",
            "__________________________________________________________________________________________________\n",
            "concatenate_6 (Concatenate)     (None, None, None, 5 0           conv2d_transpose_6[0][0]         \n",
            "                                                                 conv2d_25[0][0]                  \n",
            "__________________________________________________________________________________________________\n",
            "conv2d_32 (Conv2D)              (None, None, None, 2 1179904     concatenate_6[0][0]              \n",
            "__________________________________________________________________________________________________\n",
            "dropout_16 (Dropout)            (None, None, None, 2 0           conv2d_32[0][0]                  \n",
            "__________________________________________________________________________________________________\n",
            "conv2d_33 (Conv2D)              (None, None, None, 2 590080      dropout_16[0][0]                 \n",
            "__________________________________________________________________________________________________\n",
            "conv2d_transpose_7 (Conv2DTrans (None, None, None, 1 131200      conv2d_33[0][0]                  \n",
            "__________________________________________________________________________________________________\n",
            "concatenate_7 (Concatenate)     (None, None, None, 2 0           conv2d_transpose_7[0][0]         \n",
            "                                                                 conv2d_23[0][0]                  \n",
            "__________________________________________________________________________________________________\n",
            "conv2d_34 (Conv2D)              (None, None, None, 1 295040      concatenate_7[0][0]              \n",
            "__________________________________________________________________________________________________\n",
            "dropout_17 (Dropout)            (None, None, None, 1 0           conv2d_34[0][0]                  \n",
            "__________________________________________________________________________________________________\n",
            "conv2d_35 (Conv2D)              (None, None, None, 1 147584      dropout_17[0][0]                 \n",
            "__________________________________________________________________________________________________\n",
            "conv2d_transpose_8 (Conv2DTrans (None, None, None, 6 32832       conv2d_35[0][0]                  \n",
            "__________________________________________________________________________________________________\n",
            "concatenate_8 (Concatenate)     (None, None, None, 1 0           conv2d_transpose_8[0][0]         \n",
            "                                                                 conv2d_21[0][0]                  \n",
            "__________________________________________________________________________________________________\n",
            "conv2d_36 (Conv2D)              (None, None, None, 6 73792       concatenate_8[0][0]              \n",
            "__________________________________________________________________________________________________\n",
            "dropout_18 (Dropout)            (None, None, None, 6 0           conv2d_36[0][0]                  \n",
            "__________________________________________________________________________________________________\n",
            "conv2d_37 (Conv2D)              (None, None, None, 6 36928       dropout_18[0][0]                 \n",
            "__________________________________________________________________________________________________\n",
            "conv2d_38 (Conv2D)              (None, None, None, 4 260         conv2d_37[0][0]                  \n",
            "==================================================================================================\n",
            "Total params: 31,031,940\n",
            "Trainable params: 31,031,940\n",
            "Non-trainable params: 0\n",
            "__________________________________________________________________________________________________\n"
          ],
          "name": "stdout"
        }
      ]
    },
    {
      "cell_type": "code",
      "metadata": {
        "id": "65V3Tu8xiXD-",
        "colab_type": "code",
        "colab": {}
      },
      "source": [
        "#training function\n",
        "results = model.fit(X_train, Y_train, validation_split=0.1, batch_size=8, epochs=60)"
      ],
      "execution_count": 0,
      "outputs": []
    },
    {
      "cell_type": "code",
      "metadata": {
        "id": "N5lT-13kiKVl",
        "colab_type": "code",
        "colab": {}
      },
      "source": [
        "#plot the training progress\n",
        "fig, axs = plt.subplots(1, 2, figsize = (15, 4))\n",
        "\n",
        "training_loss = results.history['loss']\n",
        "validation_loss = results.history['val_loss']\n",
        "\n",
        "training_accuracy = results.history['dice_coef']\n",
        "validation_accuracy = results.history['val_dice_coef']\n",
        "\n",
        "epoch_count = range(1, len(training_loss) + 1)\n",
        "\n",
        "axs[0].plot(epoch_count, training_loss, 'r--')\n",
        "axs[0].plot(epoch_count, validation_loss, 'b-')\n",
        "axs[0].legend(['Training Loss', 'Validation Loss'])\n",
        "\n",
        "axs[1].plot(epoch_count, training_accuracy, 'r--')\n",
        "axs[1].plot(epoch_count, validation_accuracy, 'b-')\n",
        "axs[1].legend(['Training Accuracy', 'Validation Accuracy'])"
      ],
      "execution_count": 0,
      "outputs": []
    }
  ]
}