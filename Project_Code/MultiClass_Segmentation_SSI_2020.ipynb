{
 "cells": [
  {
   "cell_type": "markdown",
   "metadata": {
    "colab_type": "text",
    "id": "giPeUDLG0yV2"
   },
   "source": [
    "# MultiClass Segmentation using pretrained model"
   ]
  },
  {
   "cell_type": "markdown",
   "metadata": {
    "colab_type": "text",
    "id": "Jimcroi71Dqp"
   },
   "source": [
    "### Import necssary libraries"
   ]
  },
  {
   "cell_type": "code",
   "execution_count": 1,
   "metadata": {
    "colab": {
     "base_uri": "https://localhost:8080/",
     "height": 523
    },
    "colab_type": "code",
    "id": "pLtDMAl1mO0h",
    "outputId": "9c74dbbf-25b7-45b4-85a4-0c8ac39734ce"
   },
   "outputs": [
    {
     "name": "stdout",
     "output_type": "stream",
     "text": [
      "Collecting segmentation_models\n",
      "  Downloading https://files.pythonhosted.org/packages/da/b9/4a183518c21689a56b834eaaa45cad242d9ec09a4360b5b10139f23c63f4/segmentation_models-1.0.1-py3-none-any.whl\n",
      "Collecting image-classifiers==1.0.0\n",
      "  Downloading https://files.pythonhosted.org/packages/81/98/6f84720e299a4942ab80df5f76ab97b7828b24d1de5e9b2cbbe6073228b7/image_classifiers-1.0.0-py3-none-any.whl\n",
      "Collecting efficientnet==1.0.0\n",
      "  Downloading https://files.pythonhosted.org/packages/97/82/f3ae07316f0461417dc54affab6e86ab188a5a22f33176d35271628b96e0/efficientnet-1.0.0-py3-none-any.whl\n",
      "Requirement already satisfied: keras-applications<=1.0.8,>=1.0.7 in /usr/local/lib/python3.6/dist-packages (from segmentation_models) (1.0.8)\n",
      "Requirement already satisfied: scikit-image in /usr/local/lib/python3.6/dist-packages (from efficientnet==1.0.0->segmentation_models) (0.16.2)\n",
      "Requirement already satisfied: h5py in /usr/local/lib/python3.6/dist-packages (from keras-applications<=1.0.8,>=1.0.7->segmentation_models) (2.10.0)\n",
      "Requirement already satisfied: numpy>=1.9.1 in /usr/local/lib/python3.6/dist-packages (from keras-applications<=1.0.8,>=1.0.7->segmentation_models) (1.18.4)\n",
      "Requirement already satisfied: imageio>=2.3.0 in /usr/local/lib/python3.6/dist-packages (from scikit-image->efficientnet==1.0.0->segmentation_models) (2.4.1)\n",
      "Requirement already satisfied: matplotlib!=3.0.0,>=2.0.0 in /usr/local/lib/python3.6/dist-packages (from scikit-image->efficientnet==1.0.0->segmentation_models) (3.2.1)\n",
      "Requirement already satisfied: PyWavelets>=0.4.0 in /usr/local/lib/python3.6/dist-packages (from scikit-image->efficientnet==1.0.0->segmentation_models) (1.1.1)\n",
      "Requirement already satisfied: pillow>=4.3.0 in /usr/local/lib/python3.6/dist-packages (from scikit-image->efficientnet==1.0.0->segmentation_models) (7.0.0)\n",
      "Requirement already satisfied: networkx>=2.0 in /usr/local/lib/python3.6/dist-packages (from scikit-image->efficientnet==1.0.0->segmentation_models) (2.4)\n",
      "Requirement already satisfied: scipy>=0.19.0 in /usr/local/lib/python3.6/dist-packages (from scikit-image->efficientnet==1.0.0->segmentation_models) (1.4.1)\n",
      "Requirement already satisfied: six in /usr/local/lib/python3.6/dist-packages (from h5py->keras-applications<=1.0.8,>=1.0.7->segmentation_models) (1.12.0)\n",
      "Requirement already satisfied: kiwisolver>=1.0.1 in /usr/local/lib/python3.6/dist-packages (from matplotlib!=3.0.0,>=2.0.0->scikit-image->efficientnet==1.0.0->segmentation_models) (1.2.0)\n",
      "Requirement already satisfied: python-dateutil>=2.1 in /usr/local/lib/python3.6/dist-packages (from matplotlib!=3.0.0,>=2.0.0->scikit-image->efficientnet==1.0.0->segmentation_models) (2.8.1)\n",
      "Requirement already satisfied: pyparsing!=2.0.4,!=2.1.2,!=2.1.6,>=2.0.1 in /usr/local/lib/python3.6/dist-packages (from matplotlib!=3.0.0,>=2.0.0->scikit-image->efficientnet==1.0.0->segmentation_models) (2.4.7)\n",
      "Requirement already satisfied: cycler>=0.10 in /usr/local/lib/python3.6/dist-packages (from matplotlib!=3.0.0,>=2.0.0->scikit-image->efficientnet==1.0.0->segmentation_models) (0.10.0)\n",
      "Requirement already satisfied: decorator>=4.3.0 in /usr/local/lib/python3.6/dist-packages (from networkx>=2.0->scikit-image->efficientnet==1.0.0->segmentation_models) (4.4.2)\n",
      "Installing collected packages: image-classifiers, efficientnet, segmentation-models\n",
      "Successfully installed efficientnet-1.0.0 image-classifiers-1.0.0 segmentation-models-1.0.1\n"
     ]
    },
    {
     "name": "stderr",
     "output_type": "stream",
     "text": [
      "Using TensorFlow backend.\n"
     ]
    },
    {
     "name": "stdout",
     "output_type": "stream",
     "text": [
      "Segmentation Models: using `keras` framework.\n"
     ]
    }
   ],
   "source": [
    "!pip install segmentation_models\n",
    "#----------------------------------\n",
    "import random\n",
    "import os\n",
    "import numpy as np\n",
    "from tqdm import tqdm\n",
    "import tensorflow as tf\n",
    "from skimage.io import imread, imshow\n",
    "from sklearn.model_selection import train_test_split\n",
    "import matplotlib.pyplot as plt\n",
    "%matplotlib inline\n",
    "import segmentation_models as sm"
   ]
  },
  {
   "cell_type": "markdown",
   "metadata": {
    "colab_type": "text",
    "id": "_yv8LtcSqzBw"
   },
   "source": [
    "## Mount Google Drive to read Dataset"
   ]
  },
  {
   "cell_type": "code",
   "execution_count": 2,
   "metadata": {
    "colab": {
     "base_uri": "https://localhost:8080/",
     "height": 131
    },
    "colab_type": "code",
    "id": "7Du2ER9Nq3ay",
    "outputId": "9a2a14eb-23f7-4740-84ad-4464e0abb7c7"
   },
   "outputs": [
    {
     "name": "stdout",
     "output_type": "stream",
     "text": [
      "Go to this URL in a browser: https://accounts.google.com/o/oauth2/auth?client_id=947318989803-6bn6qk8qdgf4n4g3pfee6491hc0brc4i.apps.googleusercontent.com&redirect_uri=urn%3aietf%3awg%3aoauth%3a2.0%3aoob&response_type=code&scope=email%20https%3a%2f%2fwww.googleapis.com%2fauth%2fdocs.test%20https%3a%2f%2fwww.googleapis.com%2fauth%2fdrive%20https%3a%2f%2fwww.googleapis.com%2fauth%2fdrive.photos.readonly%20https%3a%2f%2fwww.googleapis.com%2fauth%2fpeopleapi.readonly\n",
      "\n",
      "Enter your authorization code:\n",
      "··········\n",
      "Mounted at drive\n"
     ]
    }
   ],
   "source": [
    "from google.colab import drive\n",
    "drive.mount('drive')"
   ]
  },
  {
   "cell_type": "markdown",
   "metadata": {
    "colab_type": "text",
    "id": "1whRSbiz4V_-"
   },
   "source": [
    "### Initialization"
   ]
  },
  {
   "cell_type": "code",
   "execution_count": 49,
   "metadata": {
    "colab": {
     "base_uri": "https://localhost:8080/",
     "height": 36
    },
    "colab_type": "code",
    "id": "mp9jHbko4b0J",
    "outputId": "7763c7dc-18ac-465d-eb71-0ef2835533fe"
   },
   "outputs": [
    {
     "name": "stdout",
     "output_type": "stream",
     "text": [
      "GPU is Availabele cool...\n"
     ]
    }
   ],
   "source": [
    "#--------------------------------------\n",
    "# For reproducabilty\n",
    "seed = 42\n",
    "np.random.seed = seed\n",
    "tf.random.set_seed = seed\n",
    "#--------------------------------------\n",
    "# Check if there is valid GPU to be used\n",
    "gpus = tf.config.experimental.list_physical_devices('GPU')\n",
    "if gpus:\n",
    "    print('GPU is Availabele cool...')\n",
    "    os.environ['CUDA_VISIBLE_DEVICES'] = '0'\n",
    "else:\n",
    "    print('Warning ... you are working on CPU, it will take ages!')\n",
    "#--------------------------------------\n",
    "# BACKBONE = 'resnet34'\n",
    "BACKBONE = 'resnet152'\n",
    "# BACKBONE = 'efficientnetb7'\n",
    "preprocess_input = sm.get_preprocessing(BACKBONE)"
   ]
  },
  {
   "cell_type": "markdown",
   "metadata": {
    "colab_type": "text",
    "id": "EuGZfuxp4t3-"
   },
   "source": [
    "### Loading the Data"
   ]
  },
  {
   "cell_type": "code",
   "execution_count": 53,
   "metadata": {
    "colab": {
     "base_uri": "https://localhost:8080/",
     "height": 111
    },
    "colab_type": "code",
    "id": "g6zOrgmD4v95",
    "outputId": "83f09a7c-f579-4931-d0bf-e0a6232cbdb3"
   },
   "outputs": [
    {
     "name": "stderr",
     "output_type": "stream",
     "text": [
      "100%|██████████| 40/40 [00:00<00:00, 138.78it/s]\n",
      "100%|██████████| 10/10 [00:00<00:00, 139.13it/s]"
     ]
    },
    {
     "name": "stdout",
     "output_type": "stream",
     "text": [
      "\n",
      "Data Rreading, and Splitting Done!\n",
      "\n"
     ]
    },
    {
     "name": "stderr",
     "output_type": "stream",
     "text": [
      "\n"
     ]
    }
   ],
   "source": [
    "# load your data\n",
    "# Path\n",
    "\n",
    "images_Path = 'drive/My Drive/Dataset/Sample_Dataset/images/'\n",
    "masks_Path = 'drive/My Drive/Dataset/Sample_Dataset/masks/'\n",
    "test_Path  = 'drive/My Drive/Dataset/Sample_Dataset/test/'\n",
    "masks_test_Path = 'drive/My Drive/Dataset/Sample_Dataset/mask_test/'\n",
    "\n",
    "# List of files\n",
    "#-------------------------------\n",
    "images = os.listdir(images_Path)\n",
    "masks = os.listdir(masks_Path)\n",
    "test = os.listdir(test_Path)\n",
    "masks_test = os.listdir(masks_test_Path)\n",
    "#----------------------\n",
    "IMG_Width  = 256\n",
    "IMG_Height = 256\n",
    "IMG_Channels = 1\n",
    "#----------------------\n",
    "def OneHotEncoding(im,n_classes):\n",
    "  one_hot = np.zeros((im.shape[0], im.shape[1], n_classes))\n",
    "  for i, unique_value in enumerate(np.unique(im)):\n",
    "    one_hot[:, :, i][im == unique_value] = 1\n",
    "  return one_hot\n",
    "#----------------------\n",
    "X = np.zeros((len(images),IMG_Height,IMG_Width,IMG_Channels),dtype=np.uint8)\n",
    "Y = np.zeros((len(masks),IMG_Height,IMG_Width,4),dtype=np.uint8)\n",
    "X_test = np.zeros((len(test),IMG_Height,IMG_Width,IMG_Channels),dtype=np.uint8)\n",
    "Y_test = np.zeros((len(masks_test),IMG_Height,IMG_Width,4),dtype=np.uint8)\n",
    "\n",
    "for n, id_ in tqdm(enumerate(images), total=len(images)):   \n",
    "    img = imread(images_Path + id_)  \n",
    "    X[n][:,:,0] = img  #Fill empty X_train with values from img\n",
    "    mask = imread(masks_Path+ id_)\n",
    "    mask = OneHotEncoding(mask,4)   \n",
    "    Y[n][:,:,:] = mask #Fill empty Y_train with values from mask\n",
    "# Y = tf.keras.utils.to_categorical(Y, num_classes=4, dtype=\"uint8\")\n",
    "\n",
    "for n, id_2 in tqdm(enumerate(test), total=len(test)):   \n",
    "    img = imread(test_Path + id_2)  \n",
    "    X_test[n][:,:,0] = img  #Fill empty X_train with values from img\n",
    "    mask2 = imread(masks_test_Path+ id_2) \n",
    "    mask2 = OneHotEncoding(mask2,4)  \n",
    "    Y_test[n][:,:,:] = mask2 #Fill empty Y_train with values from mask\n",
    "\n",
    "# Y_test = tf.keras.utils.to_categorical(Y_test, num_classes=4, dtype=\"uint8\")\n",
    "# one channel to 3 channels\n",
    "# X = np.stack([X,X,X],axis=2)  \n",
    "# Y = np.stack([Y,Y,Y],axis=2)\n",
    "# X_test = np.stack([X_test,X_test,X_test],axis=2) \n",
    "\n",
    "# Split Train Test Validate\n",
    "X_train, X_val, Y_train, Y_val = train_test_split(X, Y, test_size=0.25, random_state=42)\n",
    "# X_train, X_test, Y_train, Y_test = train_test_split(X_, Y_, test_size=0.1, random_state=42)\n",
    "print('\\nData Rreading, and Splitting Done!\\n')\n",
    "#----------------------------------------------------------------------------------------"
   ]
  },
  {
   "cell_type": "markdown",
   "metadata": {
    "colab_type": "text",
    "id": "jlmjyBWZ537V"
   },
   "source": [
    "### PreProcess the input, and define the model"
   ]
  },
  {
   "cell_type": "code",
   "execution_count": 54,
   "metadata": {
    "colab": {
     "base_uri": "https://localhost:8080/",
     "height": 279
    },
    "colab_type": "code",
    "id": "IJycDAUY5-ZE",
    "outputId": "c8b8a7f2-e2c6-4cc6-e8dc-8aa9865656ff"
   },
   "outputs": [
    {
     "name": "stdout",
     "output_type": "stream",
     "text": [
      "Model: \"model_8\"\n",
      "_________________________________________________________________\n",
      "Layer (type)                 Output Shape              Param #   \n",
      "=================================================================\n",
      "input_4 (InputLayer)         (None, None, None, 1)     0         \n",
      "_________________________________________________________________\n",
      "conv2d_4 (Conv2D)            (None, None, None, 3)     6         \n",
      "_________________________________________________________________\n",
      "model_8 (Model)              (None, None, None, 4)     67295629  \n",
      "=================================================================\n",
      "Total params: 67,295,635\n",
      "Trainable params: 67,149,773\n",
      "Non-trainable params: 145,862\n",
      "_________________________________________________________________\n"
     ]
    }
   ],
   "source": [
    "# preprocess input\n",
    "X_train = preprocess_input(X_train)\n",
    "X_val = preprocess_input(X_val)\n",
    "\n",
    "# define model\n",
    "from segmentation_models import Unet\n",
    "from segmentation_models import get_preprocessing\n",
    "from segmentation_models.metrics import iou_score\n",
    "from keras.layers import Input, Conv2D\n",
    "from keras.models import Model\n",
    "\n",
    "# define number of channels\n",
    "N = X.shape[-1]\n",
    "\n",
    "base_model = Unet(BACKBONE, classes=4, activation='softmax',\n",
    "    encoder_weights='imagenet', encoder_freeze=False)\n",
    "# ---------------------------------------------------------------\n",
    "inp = Input(shape=(None, None, N))\n",
    "l1 = Conv2D(3, (1, 1))(inp) # map N channels data to 3 channels\n",
    "out = base_model(l1)\n",
    "\n",
    "model = Model(inp, out, name=base_model.name)\n",
    "\n",
    "# continue with usual steps: compile, fit, etc..\n",
    "#----------------------------------------------------------------\n",
    "# Loss\n",
    "\n",
    "\n",
    "# loss = sm.losses.CategoricalCELoss()\n",
    "loss = sm.losses.CategoricalFocalLoss()\n",
    "opt = tf.keras.optimizers.Adam(lr=1e-4, beta_1=0.9, beta_2=0.999)\n",
    "# Compile Model\n",
    "model.compile(\n",
    "    opt,\n",
    "    loss=loss,\n",
    "    metrics=[sm.metrics.IOUScore(threshold=0.5), sm.metrics.FScore(threshold=0.5)],\n",
    ")\n",
    "model.summary()"
   ]
  },
  {
   "cell_type": "markdown",
   "metadata": {
    "colab_type": "text",
    "id": "iSnaXLnt6D0r"
   },
   "source": [
    "### fit model\n",
    "if you use data generator use `model.fit_generator(...)` instead of `model.fit(...)` \n",
    "\n",
    "more about `fit_generator` [here](https://keras.io/models/sequential/#fit_generator)"
   ]
  },
  {
   "cell_type": "code",
   "execution_count": 55,
   "metadata": {
    "colab": {
     "base_uri": "https://localhost:8080/",
     "height": 1000
    },
    "colab_type": "code",
    "id": "hOzAY4n96U0h",
    "outputId": "238dba0d-f71e-4f15-9dee-8a63bc9ccdd2"
   },
   "outputs": [
    {
     "name": "stdout",
     "output_type": "stream",
     "text": [
      "Train on 30 samples, validate on 10 samples\n",
      "Epoch 1/100\n",
      "30/30 [==============================] - 48s 2s/step - loss: 0.0487 - iou_score: 0.0542 - f1-score: 0.0976 - val_loss: 0.0396 - val_iou_score: 0.0035 - val_f1-score: 0.0069\n",
      "Epoch 2/100\n",
      "30/30 [==============================] - 6s 196ms/step - loss: 0.0353 - iou_score: 0.1059 - f1-score: 0.1767 - val_loss: 0.0464 - val_iou_score: 0.0020 - val_f1-score: 0.0039\n",
      "Epoch 3/100\n",
      "30/30 [==============================] - 6s 196ms/step - loss: 0.0274 - iou_score: 0.1945 - f1-score: 0.2945 - val_loss: 0.0506 - val_iou_score: 0.0021 - val_f1-score: 0.0041\n",
      "Epoch 4/100\n",
      "30/30 [==============================] - 6s 196ms/step - loss: 0.0211 - iou_score: 0.2707 - f1-score: 0.3905 - val_loss: 0.0499 - val_iou_score: 0.1254 - val_f1-score: 0.1257\n",
      "Epoch 5/100\n",
      "30/30 [==============================] - 6s 196ms/step - loss: 0.0171 - iou_score: 0.3310 - f1-score: 0.4528 - val_loss: 0.0485 - val_iou_score: 0.2504 - val_f1-score: 0.2509\n",
      "Epoch 6/100\n",
      "30/30 [==============================] - 6s 196ms/step - loss: 0.0149 - iou_score: 0.3722 - f1-score: 0.4915 - val_loss: 0.0468 - val_iou_score: 0.2502 - val_f1-score: 0.2505\n",
      "Epoch 7/100\n",
      "30/30 [==============================] - 6s 197ms/step - loss: 0.0127 - iou_score: 0.4299 - f1-score: 0.5397 - val_loss: 0.0433 - val_iou_score: 0.2507 - val_f1-score: 0.2513\n",
      "Epoch 8/100\n",
      "30/30 [==============================] - 6s 197ms/step - loss: 0.0116 - iou_score: 0.4714 - f1-score: 0.5730 - val_loss: 0.0410 - val_iou_score: 0.2511 - val_f1-score: 0.2523\n",
      "Epoch 9/100\n",
      "30/30 [==============================] - 6s 196ms/step - loss: 0.0099 - iou_score: 0.5122 - f1-score: 0.6028 - val_loss: 0.0389 - val_iou_score: 0.2521 - val_f1-score: 0.2541\n",
      "Epoch 10/100\n",
      "30/30 [==============================] - 6s 197ms/step - loss: 0.0091 - iou_score: 0.5305 - f1-score: 0.6146 - val_loss: 0.0370 - val_iou_score: 0.2604 - val_f1-score: 0.2699\n",
      "Epoch 11/100\n",
      "30/30 [==============================] - 6s 197ms/step - loss: 0.0091 - iou_score: 0.5295 - f1-score: 0.6139 - val_loss: 0.0352 - val_iou_score: 0.2822 - val_f1-score: 0.3071\n",
      "Epoch 12/100\n",
      "30/30 [==============================] - 6s 196ms/step - loss: 0.0081 - iou_score: 0.5547 - f1-score: 0.6322 - val_loss: 0.0332 - val_iou_score: 0.2892 - val_f1-score: 0.3186\n",
      "Epoch 13/100\n",
      "30/30 [==============================] - 6s 195ms/step - loss: 0.0072 - iou_score: 0.5812 - f1-score: 0.6499 - val_loss: 0.0312 - val_iou_score: 0.2876 - val_f1-score: 0.3171\n",
      "Epoch 14/100\n",
      "30/30 [==============================] - 6s 197ms/step - loss: 0.0070 - iou_score: 0.5861 - f1-score: 0.6536 - val_loss: 0.0298 - val_iou_score: 0.2893 - val_f1-score: 0.3205\n",
      "Epoch 15/100\n",
      "30/30 [==============================] - 6s 196ms/step - loss: 0.0063 - iou_score: 0.6008 - f1-score: 0.6631 - val_loss: 0.0282 - val_iou_score: 0.2983 - val_f1-score: 0.3350\n",
      "Epoch 16/100\n",
      "30/30 [==============================] - 6s 196ms/step - loss: 0.0060 - iou_score: 0.6054 - f1-score: 0.6658 - val_loss: 0.0266 - val_iou_score: 0.1937 - val_f1-score: 0.2402\n",
      "Epoch 17/100\n",
      "30/30 [==============================] - 6s 196ms/step - loss: 0.0058 - iou_score: 0.6116 - f1-score: 0.6703 - val_loss: 0.0254 - val_iou_score: 0.2122 - val_f1-score: 0.2654\n",
      "Epoch 18/100\n",
      "30/30 [==============================] - 6s 197ms/step - loss: 0.0054 - iou_score: 0.6220 - f1-score: 0.6772 - val_loss: 0.0242 - val_iou_score: 0.2301 - val_f1-score: 0.2903\n",
      "Epoch 19/100\n",
      "30/30 [==============================] - 6s 196ms/step - loss: 0.0055 - iou_score: 0.6152 - f1-score: 0.6729 - val_loss: 0.0228 - val_iou_score: 0.1261 - val_f1-score: 0.1968\n",
      "Epoch 20/100\n",
      "30/30 [==============================] - 6s 196ms/step - loss: 0.0050 - iou_score: 0.6273 - f1-score: 0.6806 - val_loss: 0.0217 - val_iou_score: 0.1310 - val_f1-score: 0.2007\n",
      "Epoch 21/100\n",
      "30/30 [==============================] - 6s 196ms/step - loss: 0.0048 - iou_score: 0.6307 - f1-score: 0.6828 - val_loss: 0.0206 - val_iou_score: 0.1425 - val_f1-score: 0.2124\n",
      "Epoch 22/100\n",
      "30/30 [==============================] - 6s 196ms/step - loss: 0.0046 - iou_score: 0.6356 - f1-score: 0.6855 - val_loss: 0.0196 - val_iou_score: 0.1497 - val_f1-score: 0.2221\n",
      "Epoch 23/100\n",
      "30/30 [==============================] - 6s 195ms/step - loss: 0.0043 - iou_score: 0.6398 - f1-score: 0.6881 - val_loss: 0.0188 - val_iou_score: 0.1584 - val_f1-score: 0.2338\n",
      "Epoch 24/100\n",
      "30/30 [==============================] - 6s 196ms/step - loss: 0.0043 - iou_score: 0.7031 - f1-score: 0.7511 - val_loss: 0.0180 - val_iou_score: 0.1657 - val_f1-score: 0.2419\n",
      "Epoch 25/100\n",
      "30/30 [==============================] - 6s 196ms/step - loss: 0.0040 - iou_score: 0.6478 - f1-score: 0.6931 - val_loss: 0.0172 - val_iou_score: 0.3015 - val_f1-score: 0.3832\n",
      "Epoch 26/100\n",
      "30/30 [==============================] - 6s 196ms/step - loss: 0.0038 - iou_score: 0.6498 - f1-score: 0.6942 - val_loss: 0.0164 - val_iou_score: 0.3294 - val_f1-score: 0.4199\n",
      "Epoch 27/100\n",
      "30/30 [==============================] - 6s 197ms/step - loss: 0.0037 - iou_score: 0.6533 - f1-score: 0.6964 - val_loss: 0.0156 - val_iou_score: 0.3514 - val_f1-score: 0.4474\n",
      "Epoch 28/100\n",
      "30/30 [==============================] - 6s 196ms/step - loss: 0.0036 - iou_score: 0.6527 - f1-score: 0.6959 - val_loss: 0.0149 - val_iou_score: 0.3780 - val_f1-score: 0.4764\n",
      "Epoch 29/100\n",
      "30/30 [==============================] - 6s 197ms/step - loss: 0.0034 - iou_score: 0.6552 - f1-score: 0.6974 - val_loss: 0.0144 - val_iou_score: 0.3975 - val_f1-score: 0.4942\n",
      "Epoch 30/100\n",
      "30/30 [==============================] - 6s 197ms/step - loss: 0.0034 - iou_score: 0.6571 - f1-score: 0.6987 - val_loss: 0.0138 - val_iou_score: 0.5513 - val_f1-score: 0.6465\n",
      "Epoch 31/100\n",
      "30/30 [==============================] - 6s 196ms/step - loss: 0.0031 - iou_score: 0.6606 - f1-score: 0.7006 - val_loss: 0.0130 - val_iou_score: 0.4702 - val_f1-score: 0.5655\n",
      "Epoch 32/100\n",
      "30/30 [==============================] - 6s 196ms/step - loss: 0.0031 - iou_score: 0.7248 - f1-score: 0.7641 - val_loss: 0.0124 - val_iou_score: 0.6208 - val_f1-score: 0.7146\n",
      "Epoch 33/100\n",
      "30/30 [==============================] - 6s 196ms/step - loss: 0.0030 - iou_score: 0.7258 - f1-score: 0.7648 - val_loss: 0.0118 - val_iou_score: 0.6355 - val_f1-score: 0.7257\n",
      "Epoch 34/100\n",
      "30/30 [==============================] - 6s 196ms/step - loss: 0.0029 - iou_score: 0.7253 - f1-score: 0.7646 - val_loss: 0.0113 - val_iou_score: 0.6431 - val_f1-score: 0.7277\n",
      "Epoch 35/100\n",
      "30/30 [==============================] - 6s 197ms/step - loss: 0.0029 - iou_score: 0.6596 - f1-score: 0.7001 - val_loss: 0.0108 - val_iou_score: 0.6626 - val_f1-score: 0.7470\n",
      "Epoch 36/100\n",
      "30/30 [==============================] - 6s 196ms/step - loss: 0.0028 - iou_score: 0.7888 - f1-score: 0.8275 - val_loss: 0.0101 - val_iou_score: 0.6861 - val_f1-score: 0.7699\n",
      "Epoch 37/100\n",
      "30/30 [==============================] - 6s 197ms/step - loss: 0.0027 - iou_score: 0.8537 - f1-score: 0.8914 - val_loss: 0.0097 - val_iou_score: 0.6931 - val_f1-score: 0.7738\n",
      "Epoch 38/100\n",
      "30/30 [==============================] - 6s 196ms/step - loss: 0.0026 - iou_score: 0.9176 - f1-score: 0.9548 - val_loss: 0.0093 - val_iou_score: 0.6982 - val_f1-score: 0.7767\n",
      "Epoch 39/100\n",
      "30/30 [==============================] - 6s 197ms/step - loss: 0.0025 - iou_score: 0.9181 - f1-score: 0.9550 - val_loss: 0.0088 - val_iou_score: 0.7231 - val_f1-score: 0.8047\n",
      "Epoch 40/100\n",
      "30/30 [==============================] - 6s 197ms/step - loss: 0.0024 - iou_score: 0.9201 - f1-score: 0.9562 - val_loss: 0.0084 - val_iou_score: 0.7290 - val_f1-score: 0.8092\n",
      "Epoch 41/100\n",
      "30/30 [==============================] - 6s 197ms/step - loss: 0.0026 - iou_score: 0.7864 - f1-score: 0.8261 - val_loss: 0.0080 - val_iou_score: 0.7286 - val_f1-score: 0.8026\n",
      "Epoch 42/100\n",
      "30/30 [==============================] - 6s 198ms/step - loss: 0.0024 - iou_score: 0.7935 - f1-score: 0.8302 - val_loss: 0.0076 - val_iou_score: 0.7459 - val_f1-score: 0.8221\n",
      "Epoch 43/100\n",
      "30/30 [==============================] - 6s 197ms/step - loss: 0.0023 - iou_score: 0.7932 - f1-score: 0.8301 - val_loss: 0.0071 - val_iou_score: 0.7641 - val_f1-score: 0.8399\n",
      "Epoch 44/100\n",
      "30/30 [==============================] - 6s 196ms/step - loss: 0.0022 - iou_score: 0.7972 - f1-score: 0.8324 - val_loss: 0.0067 - val_iou_score: 0.7751 - val_f1-score: 0.8498\n",
      "Epoch 45/100\n",
      "30/30 [==============================] - 6s 197ms/step - loss: 0.0022 - iou_score: 0.9222 - f1-score: 0.9574 - val_loss: 0.0065 - val_iou_score: 0.7774 - val_f1-score: 0.8499\n",
      "Epoch 46/100\n",
      "30/30 [==============================] - 6s 197ms/step - loss: 0.0022 - iou_score: 0.8594 - f1-score: 0.8947 - val_loss: 0.0063 - val_iou_score: 0.7719 - val_f1-score: 0.8440\n",
      "Epoch 47/100\n",
      "30/30 [==============================] - 6s 197ms/step - loss: 0.0021 - iou_score: 0.8610 - f1-score: 0.8956 - val_loss: 0.0060 - val_iou_score: 0.7902 - val_f1-score: 0.8623\n",
      "Epoch 48/100\n",
      "30/30 [==============================] - 6s 197ms/step - loss: 0.0021 - iou_score: 0.8578 - f1-score: 0.8937 - val_loss: 0.0058 - val_iou_score: 0.8006 - val_f1-score: 0.8708\n",
      "Epoch 49/100\n",
      "30/30 [==============================] - 6s 196ms/step - loss: 0.0019 - iou_score: 0.9262 - f1-score: 0.9597 - val_loss: 0.0056 - val_iou_score: 0.7961 - val_f1-score: 0.8649\n",
      "Epoch 50/100\n",
      "30/30 [==============================] - 6s 197ms/step - loss: 0.0019 - iou_score: 0.9271 - f1-score: 0.9602 - val_loss: 0.0053 - val_iou_score: 0.8059 - val_f1-score: 0.8741\n",
      "Epoch 51/100\n",
      "30/30 [==============================] - 6s 197ms/step - loss: 0.0019 - iou_score: 0.9270 - f1-score: 0.9602 - val_loss: 0.0051 - val_iou_score: 0.8090 - val_f1-score: 0.8768\n",
      "Epoch 52/100\n",
      "30/30 [==============================] - 6s 197ms/step - loss: 0.0018 - iou_score: 0.8638 - f1-score: 0.8972 - val_loss: 0.0049 - val_iou_score: 0.8298 - val_f1-score: 0.8944\n",
      "Epoch 53/100\n",
      "30/30 [==============================] - 6s 197ms/step - loss: 0.0019 - iou_score: 0.8648 - f1-score: 0.8979 - val_loss: 0.0048 - val_iou_score: 0.8286 - val_f1-score: 0.8941\n",
      "Epoch 54/100\n",
      "30/30 [==============================] - 6s 197ms/step - loss: 0.0018 - iou_score: 0.9271 - f1-score: 0.9603 - val_loss: 0.0046 - val_iou_score: 0.8357 - val_f1-score: 0.8997\n",
      "Epoch 55/100\n",
      "30/30 [==============================] - 6s 196ms/step - loss: 0.0018 - iou_score: 0.8669 - f1-score: 0.8991 - val_loss: 0.0043 - val_iou_score: 0.8464 - val_f1-score: 0.9069\n",
      "Epoch 56/100\n",
      "30/30 [==============================] - 6s 197ms/step - loss: 0.0017 - iou_score: 0.9316 - f1-score: 0.9629 - val_loss: 0.0041 - val_iou_score: 0.8592 - val_f1-score: 0.9170\n",
      "Epoch 57/100\n",
      "30/30 [==============================] - 6s 197ms/step - loss: 0.0017 - iou_score: 0.9317 - f1-score: 0.9629 - val_loss: 0.0039 - val_iou_score: 0.8701 - val_f1-score: 0.9243\n",
      "Epoch 58/100\n",
      "30/30 [==============================] - 6s 197ms/step - loss: 0.0016 - iou_score: 0.9342 - f1-score: 0.9644 - val_loss: 0.0038 - val_iou_score: 0.8727 - val_f1-score: 0.9262\n",
      "Epoch 59/100\n",
      "30/30 [==============================] - 6s 196ms/step - loss: 0.0016 - iou_score: 0.9330 - f1-score: 0.9637 - val_loss: 0.0037 - val_iou_score: 0.8659 - val_f1-score: 0.9215\n",
      "Epoch 60/100\n",
      "30/30 [==============================] - 6s 197ms/step - loss: 0.0016 - iou_score: 0.8080 - f1-score: 0.8387 - val_loss: 0.0035 - val_iou_score: 0.8768 - val_f1-score: 0.9285\n",
      "Epoch 61/100\n",
      "30/30 [==============================] - 6s 197ms/step - loss: 0.0015 - iou_score: 0.9359 - f1-score: 0.9653 - val_loss: 0.0035 - val_iou_score: 0.8729 - val_f1-score: 0.9263\n",
      "Epoch 62/100\n",
      "30/30 [==============================] - 6s 197ms/step - loss: 0.0015 - iou_score: 0.8719 - f1-score: 0.9020 - val_loss: 0.0034 - val_iou_score: 0.8805 - val_f1-score: 0.9311\n",
      "Epoch 63/100\n",
      "30/30 [==============================] - 6s 196ms/step - loss: 0.0015 - iou_score: 0.8092 - f1-score: 0.8394 - val_loss: 0.0032 - val_iou_score: 0.8877 - val_f1-score: 0.9362\n",
      "Epoch 64/100\n",
      "30/30 [==============================] - 6s 196ms/step - loss: 0.0015 - iou_score: 0.8731 - f1-score: 0.9027 - val_loss: 0.0031 - val_iou_score: 0.8865 - val_f1-score: 0.9354\n",
      "Epoch 65/100\n",
      "30/30 [==============================] - 6s 196ms/step - loss: 0.0014 - iou_score: 0.9344 - f1-score: 0.9645 - val_loss: 0.0031 - val_iou_score: 0.8850 - val_f1-score: 0.9346\n",
      "Epoch 66/100\n",
      "30/30 [==============================] - 6s 197ms/step - loss: 0.0014 - iou_score: 0.8737 - f1-score: 0.9031 - val_loss: 0.0029 - val_iou_score: 0.8906 - val_f1-score: 0.9381\n",
      "Epoch 67/100\n",
      "30/30 [==============================] - 6s 197ms/step - loss: 0.0014 - iou_score: 0.8754 - f1-score: 0.9040 - val_loss: 0.0029 - val_iou_score: 0.8935 - val_f1-score: 0.9398\n",
      "Epoch 68/100\n",
      "30/30 [==============================] - 6s 196ms/step - loss: 0.0013 - iou_score: 0.9411 - f1-score: 0.9683 - val_loss: 0.0029 - val_iou_score: 0.8884 - val_f1-score: 0.9368\n",
      "Epoch 69/100\n",
      "30/30 [==============================] - 6s 196ms/step - loss: 0.0013 - iou_score: 0.9409 - f1-score: 0.9683 - val_loss: 0.0028 - val_iou_score: 0.8909 - val_f1-score: 0.9385\n",
      "Epoch 70/100\n",
      "30/30 [==============================] - 6s 197ms/step - loss: 0.0013 - iou_score: 0.9395 - f1-score: 0.9674 - val_loss: 0.0027 - val_iou_score: 0.8925 - val_f1-score: 0.9395\n",
      "Epoch 71/100\n",
      "30/30 [==============================] - 6s 197ms/step - loss: 0.0014 - iou_score: 0.8719 - f1-score: 0.9021 - val_loss: 0.0026 - val_iou_score: 0.8996 - val_f1-score: 0.9437\n",
      "Epoch 72/100\n",
      "30/30 [==============================] - 6s 197ms/step - loss: 0.0013 - iou_score: 0.8769 - f1-score: 0.9049 - val_loss: 0.0025 - val_iou_score: 0.9041 - val_f1-score: 0.9467\n",
      "Epoch 73/100\n",
      "30/30 [==============================] - 6s 197ms/step - loss: 0.0013 - iou_score: 0.9403 - f1-score: 0.9679 - val_loss: 0.0025 - val_iou_score: 0.9002 - val_f1-score: 0.9443\n",
      "Epoch 74/100\n",
      "30/30 [==============================] - 6s 197ms/step - loss: 0.0013 - iou_score: 0.9385 - f1-score: 0.9669 - val_loss: 0.0023 - val_iou_score: 0.9038 - val_f1-score: 0.9463\n",
      "Epoch 75/100\n",
      "30/30 [==============================] - 6s 197ms/step - loss: 0.0012 - iou_score: 0.9383 - f1-score: 0.9666 - val_loss: 0.0022 - val_iou_score: 0.9093 - val_f1-score: 0.9496\n",
      "Epoch 76/100\n",
      "30/30 [==============================] - 6s 196ms/step - loss: 0.0013 - iou_score: 0.8762 - f1-score: 0.9046 - val_loss: 0.0022 - val_iou_score: 0.9059 - val_f1-score: 0.9475\n",
      "Epoch 77/100\n",
      "30/30 [==============================] - 6s 197ms/step - loss: 0.0013 - iou_score: 0.9374 - f1-score: 0.9663 - val_loss: 0.0021 - val_iou_score: 0.9128 - val_f1-score: 0.9517\n",
      "Epoch 78/100\n",
      "30/30 [==============================] - 6s 197ms/step - loss: 0.0011 - iou_score: 0.8196 - f1-score: 0.8454 - val_loss: 0.0021 - val_iou_score: 0.9130 - val_f1-score: 0.9519\n",
      "Epoch 79/100\n",
      "30/30 [==============================] - 6s 197ms/step - loss: 0.0011 - iou_score: 0.8845 - f1-score: 0.9093 - val_loss: 0.0019 - val_iou_score: 0.9163 - val_f1-score: 0.9538\n",
      "Epoch 80/100\n",
      "30/30 [==============================] - 6s 197ms/step - loss: 0.0011 - iou_score: 0.9480 - f1-score: 0.9723 - val_loss: 0.0020 - val_iou_score: 0.9145 - val_f1-score: 0.9529\n",
      "Epoch 81/100\n",
      "30/30 [==============================] - 6s 196ms/step - loss: 0.0011 - iou_score: 0.9470 - f1-score: 0.9718 - val_loss: 0.0019 - val_iou_score: 0.9153 - val_f1-score: 0.9534\n",
      "Epoch 82/100\n",
      "30/30 [==============================] - 6s 197ms/step - loss: 0.0010 - iou_score: 0.9491 - f1-score: 0.9730 - val_loss: 0.0019 - val_iou_score: 0.9168 - val_f1-score: 0.9543\n",
      "Epoch 83/100\n",
      "30/30 [==============================] - 6s 197ms/step - loss: 0.0010 - iou_score: 0.9515 - f1-score: 0.9743 - val_loss: 0.0019 - val_iou_score: 0.9149 - val_f1-score: 0.9532\n",
      "Epoch 84/100\n",
      "30/30 [==============================] - 6s 197ms/step - loss: 9.8967e-04 - iou_score: 0.8888 - f1-score: 0.9117 - val_loss: 0.0018 - val_iou_score: 0.9183 - val_f1-score: 0.9552\n",
      "Epoch 85/100\n",
      "30/30 [==============================] - 6s 197ms/step - loss: 9.5603e-04 - iou_score: 0.9531 - f1-score: 0.9752 - val_loss: 0.0019 - val_iou_score: 0.9172 - val_f1-score: 0.9546\n",
      "Epoch 86/100\n",
      "30/30 [==============================] - 6s 197ms/step - loss: 9.3770e-04 - iou_score: 0.9543 - f1-score: 0.9759 - val_loss: 0.0017 - val_iou_score: 0.9218 - val_f1-score: 0.9574\n",
      "Epoch 87/100\n",
      "30/30 [==============================] - 6s 195ms/step - loss: 9.1615e-04 - iou_score: 0.9555 - f1-score: 0.9765 - val_loss: 0.0017 - val_iou_score: 0.9244 - val_f1-score: 0.9588\n",
      "Epoch 88/100\n",
      "30/30 [==============================] - 6s 195ms/step - loss: 9.7821e-04 - iou_score: 0.8880 - f1-score: 0.9112 - val_loss: 0.0016 - val_iou_score: 0.9255 - val_f1-score: 0.9595\n",
      "Epoch 89/100\n",
      "30/30 [==============================] - 6s 195ms/step - loss: 9.6706e-04 - iou_score: 0.8894 - f1-score: 0.9120 - val_loss: 0.0017 - val_iou_score: 0.9234 - val_f1-score: 0.9582\n",
      "Epoch 90/100\n",
      "30/30 [==============================] - 6s 196ms/step - loss: 9.3435e-04 - iou_score: 0.8898 - f1-score: 0.9123 - val_loss: 0.0016 - val_iou_score: 0.9284 - val_f1-score: 0.9611\n",
      "Epoch 91/100\n",
      "30/30 [==============================] - 6s 195ms/step - loss: 8.8152e-04 - iou_score: 0.9565 - f1-score: 0.9771 - val_loss: 0.0016 - val_iou_score: 0.9278 - val_f1-score: 0.9608\n",
      "Epoch 92/100\n",
      "30/30 [==============================] - 6s 195ms/step - loss: 8.8405e-04 - iou_score: 0.9544 - f1-score: 0.9759 - val_loss: 0.0015 - val_iou_score: 0.9288 - val_f1-score: 0.9614\n",
      "Epoch 93/100\n",
      "30/30 [==============================] - 6s 195ms/step - loss: 8.4786e-04 - iou_score: 0.8953 - f1-score: 0.9153 - val_loss: 0.0016 - val_iou_score: 0.9260 - val_f1-score: 0.9598\n",
      "Epoch 94/100\n",
      "30/30 [==============================] - 6s 195ms/step - loss: 8.4336e-04 - iou_score: 0.9576 - f1-score: 0.9777 - val_loss: 0.0015 - val_iou_score: 0.9276 - val_f1-score: 0.9607\n",
      "Epoch 95/100\n",
      "30/30 [==============================] - 6s 195ms/step - loss: 8.1610e-04 - iou_score: 0.9585 - f1-score: 0.9782 - val_loss: 0.0015 - val_iou_score: 0.9289 - val_f1-score: 0.9614\n",
      "Epoch 96/100\n",
      "30/30 [==============================] - 6s 195ms/step - loss: 8.0968e-04 - iou_score: 0.9580 - f1-score: 0.9778 - val_loss: 0.0015 - val_iou_score: 0.9285 - val_f1-score: 0.9612\n",
      "Epoch 97/100\n",
      "30/30 [==============================] - 6s 195ms/step - loss: 8.2723e-04 - iou_score: 0.9588 - f1-score: 0.9783 - val_loss: 0.0015 - val_iou_score: 0.9302 - val_f1-score: 0.9622\n",
      "Epoch 98/100\n",
      "30/30 [==============================] - 6s 196ms/step - loss: 8.9188e-04 - iou_score: 0.9514 - f1-score: 0.9739 - val_loss: 0.0015 - val_iou_score: 0.9276 - val_f1-score: 0.9607\n",
      "Epoch 99/100\n",
      "30/30 [==============================] - 6s 196ms/step - loss: 7.9922e-04 - iou_score: 0.9569 - f1-score: 0.9773 - val_loss: 0.0014 - val_iou_score: 0.9304 - val_f1-score: 0.9623\n",
      "Epoch 100/100\n",
      "30/30 [==============================] - 6s 195ms/step - loss: 8.0718e-04 - iou_score: 0.9592 - f1-score: 0.9786 - val_loss: 0.0014 - val_iou_score: 0.9363 - val_f1-score: 0.9658\n",
      "10/10 [==============================] - 1s 55ms/step\n",
      "Test loss: 0.0045308640226721765\n",
      "Test accuracy 0.8464424014091492\n"
     ]
    },
    {
     "name": "stderr",
     "output_type": "stream",
     "text": [
      "/usr/local/lib/python3.6/dist-packages/keras/engine/saving.py:165: UserWarning: TensorFlow optimizers do not make it possible to access optimizer attributes or optimizer state after instantiation. As a result, we cannot save the optimizer as part of the model save file.You will have to compile your model again after loading it. Prefer using a Keras optimizer instead (see keras.io/optimizers).\n",
      "  'TensorFlow optimizers do not '\n"
     ]
    }
   ],
   "source": [
    "# import keras\n",
    "# Model Checkpoint\n",
    "# Callbacks = [\n",
    "#              keras.callbacks.EarlyStopping(patience=3,monitor='val_loss'),\n",
    "             \n",
    "#              keras.callbacks.ModelCheckpoint('Model.h5',\n",
    "#               verbose=1, save_best_only=True) # monitor = 'val_acc', mode = 'auto',\n",
    "#              ]# keras.callbacks.TensorBoard(log_dir='logs'),\n",
    "             \n",
    "history = model.fit(\n",
    "   x=X_train,\n",
    "   y=Y_train,\n",
    "   batch_size=8,\n",
    "   epochs=100,\n",
    "   validation_data=(X_val, Y_val),\n",
    ")\n",
    "\n",
    "# Evaluate Model\n",
    "#================\n",
    "score = model.evaluate(X_test, Y_test, batch_size=8)\n",
    "print('Test loss:', score[0])\n",
    "print('Test accuracy', score[1])\n",
    "#------------------------------------------------------\n",
    "# Save Model\n",
    "#================\n",
    "model.save('my_model.h5')\n",
    "# Delete Model\n",
    "del model"
   ]
  },
  {
   "cell_type": "markdown",
   "metadata": {
    "colab_type": "text",
    "id": "sANIlQqD7WYK"
   },
   "source": [
    "### Visualize fitting curve"
   ]
  },
  {
   "cell_type": "code",
   "execution_count": 56,
   "metadata": {
    "colab": {
     "base_uri": "https://localhost:8080/",
     "height": 258
    },
    "colab_type": "code",
    "id": "TzQE-yuOFwdk",
    "outputId": "a25c7ff7-dde1-4a8d-eb2f-1a5e60ffec6b"
   },
   "outputs": [
    {
     "data": {
      "text/plain": [
       "<matplotlib.legend.Legend at 0x7fa762d71978>"
      ]
     },
     "execution_count": 56,
     "metadata": {
      "tags": []
     },
     "output_type": "execute_result"
    },
    {
     "data": {
      "image/png": "[encoded data removed]",
      "text/plain": [
       "<Figure size 2160x360 with 2 Axes>"
      ]
     },
     "metadata": {
      "needs_background": "light",
      "tags": []
     },
     "output_type": "display_data"
    }
   ],
   "source": [
    "plt.figure(figsize=(30, 5), num = 'Metrics')\n",
    "plt.subplot(121)\n",
    "plt.plot(history.history['iou_score'])\n",
    "plt.plot(history.history['val_iou_score'])\n",
    "plt.title('Model iou_score')\n",
    "plt.ylabel('iou_score')\n",
    "plt.xlabel('Epoch')\n",
    "plt.legend(['Train', 'Test'], loc='upper left')\n",
    "\n",
    "# Plot training & validation loss values\n",
    "plt.subplot(122)\n",
    "plt.plot(history.history['loss'])\n",
    "plt.plot(history.history['val_loss'])\n",
    "plt.title('Model loss')\n",
    "plt.ylabel('Loss')\n",
    "plt.xlabel('Epoch')\n",
    "plt.legend(['Train', 'Test'], loc='upper left')"
   ]
  },
  {
   "cell_type": "markdown",
   "metadata": {
    "colab_type": "text",
    "id": "PwfWa8yZ85bV"
   },
   "source": [
    "### Load Model"
   ]
  },
  {
   "cell_type": "code",
   "execution_count": 57,
   "metadata": {
    "colab": {
     "base_uri": "https://localhost:8080/",
     "height": 73
    },
    "colab_type": "code",
    "id": "4-QMcGmG8_A7",
    "outputId": "315e503c-77f1-4a2a-f88f-47be2ec8234c"
   },
   "outputs": [
    {
     "name": "stdout",
     "output_type": "stream",
     "text": [
      "1/1 [==============================] - 0s 1ms/step - loss: 0.0045 - iou_score: 0.8507 - f1-score: 0.9119\n",
      "Test loss: 0.004530862905085087\n",
      "Test accuracy 0.8507148027420044\n"
     ]
    }
   ],
   "source": [
    "model = tf.keras.models.load_model(\"my_model.h5\",compile=False)\n",
    "model.compile( 'Adam',\n",
    "    loss=loss,\n",
    "    metrics=[sm.metrics.IOUScore(threshold=0.5), sm.metrics.FScore(threshold=0.5)])\n",
    "#\n",
    "score = model.evaluate(X_test, Y_test, batch_size=100, verbose=1)\n",
    "print('Test loss:', score[0])\n",
    "print('Test accuracy', score[1])\n",
    "#\n",
    "prediction = model.predict(X_test)"
   ]
  },
  {
   "cell_type": "markdown",
   "metadata": {
    "colab_type": "text",
    "id": "ryG_jQVe6DC-"
   },
   "source": [
    "### Visualize the Results"
   ]
  },
  {
   "cell_type": "code",
   "execution_count": 48,
   "metadata": {
    "colab": {
     "base_uri": "https://localhost:8080/",
     "height": 283
    },
    "colab_type": "code",
    "id": "1WsvdpCr7Nx1",
    "outputId": "461fc79d-b165-4cd1-dabf-92fce705dab3"
   },
   "outputs": [
    {
     "name": "stdout",
     "output_type": "stream",
     "text": [
      "0\n"
     ]
    },
    {
     "data": {
      "image/png": "[encoded data removed]",
      "text/plain": [
       "<Figure size 432x288 with 4 Axes>"
      ]
     },
     "metadata": {
      "needs_background": "light",
      "tags": []
     },
     "output_type": "display_data"
    }
   ],
   "source": [
    "plt.figure(num='UNET Efficient Net B7')\n",
    "\n",
    "plt.subplot('221')\n",
    "plt.imshow(np.squeeze(X_train[30]),cmap='gray')\n",
    "plt.title('Train Image')\n",
    "plt.axis('off')\n",
    "\n",
    "print(np.sum(Y_train[30][:,:,3]))\n",
    "\n",
    "plt.subplot('222')\n",
    "plt.imshow(Y_train[20][:,:,3],cmap='gray')\n",
    "plt.title('Train Mask')\n",
    "plt.axis('off')\n",
    "\n",
    "plt.subplot('223')\n",
    "plt.imshow(np.squeeze(X_test[9]),cmap='gray')\n",
    "plt.title('Test Image')\n",
    "plt.axis('off')\n",
    "\n",
    "plt.subplot('224')\n",
    "plt.imshow(prediction[9][:,:,3],cmap='gray')\n",
    "plt.title('Prediction')\n",
    "plt.axis('off')\n",
    "\n",
    "plt.show()"
   ]
  }
 ],
 "metadata": {
  "accelerator": "GPU",
  "colab": {
   "collapsed_sections": [],
   "name": "MultiClass_Segmentation_SSI_2020.ipynb",
   "provenance": []
  },
  "kernelspec": {
   "display_name": "Python 3",
   "language": "python",
   "name": "python3"
  },
  "language_info": {
   "codemirror_mode": {
    "name": "ipython",
    "version": 3
   },
   "file_extension": ".py",
   "mimetype": "text/x-python",
   "name": "python",
   "nbconvert_exporter": "python",
   "pygments_lexer": "ipython3",
   "version": "3.6.10"
  }
 },
 "nbformat": 4,
 "nbformat_minor": 1
}
